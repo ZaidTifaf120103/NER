{
  "metadata": {
    "kernelspec": {
      "display_name": "Python 3",
      "name": "python3"
    },
    "language_info": {
      "name": "python",
      "version": "3.10.14",
      "mimetype": "text/x-python",
      "codemirror_mode": {
        "name": "ipython",
        "version": 3
      },
      "pygments_lexer": "ipython3",
      "nbconvert_exporter": "python",
      "file_extension": ".py"
    },
    "kaggle": {
      "accelerator": "none",
      "dataSources": [
        {
          "sourceId": 10130332,
          "sourceType": "datasetVersion",
          "datasetId": 6251918
        },
        {
          "sourceId": 10141441,
          "sourceType": "datasetVersion",
          "datasetId": 6259423
        }
      ],
      "isInternetEnabled": false,
      "language": "python",
      "sourceType": "notebook",
      "isGpuEnabled": false
    },
    "colab": {
      "provenance": [],
      "gpuType": "T4"
    },
    "accelerator": "GPU"
  },
  "nbformat_minor": 0,
  "nbformat": 4,
  "cells": [
    {
      "cell_type": "code",
      "source": [
        "import pandas as pd\n",
        "import torch\n",
        "import torch.nn as nn\n",
        "import torch.nn.functional as F\n",
        "import torch.optim as optim"
      ],
      "metadata": {
        "execution": {
          "iopub.status.busy": "2024-12-08T19:48:17.089681Z",
          "iopub.execute_input": "2024-12-08T19:48:17.090602Z",
          "iopub.status.idle": "2024-12-08T19:48:17.096334Z",
          "shell.execute_reply.started": "2024-12-08T19:48:17.090556Z",
          "shell.execute_reply": "2024-12-08T19:48:17.094803Z"
        },
        "trusted": true,
        "id": "AORzS0llS18-"
      },
      "outputs": [],
      "execution_count": 1
    },
    {
      "cell_type": "code",
      "source": [
        "df = pd.read_csv('/content/coarse-and-fine-grained-ner-dataset.csv')"
      ],
      "metadata": {
        "execution": {
          "iopub.status.busy": "2024-12-08T19:48:17.763327Z",
          "iopub.execute_input": "2024-12-08T19:48:17.763798Z",
          "iopub.status.idle": "2024-12-08T19:48:17.833266Z",
          "shell.execute_reply.started": "2024-12-08T19:48:17.763760Z",
          "shell.execute_reply": "2024-12-08T19:48:17.831808Z"
        },
        "trusted": true,
        "id": "PjlS7bfAS18_"
      },
      "outputs": [],
      "execution_count": 2
    },
    {
      "cell_type": "code",
      "source": [
        "df.head()"
      ],
      "metadata": {
        "execution": {
          "iopub.status.busy": "2024-12-08T19:48:18.352939Z",
          "iopub.execute_input": "2024-12-08T19:48:18.353491Z",
          "iopub.status.idle": "2024-12-08T19:48:18.367668Z",
          "shell.execute_reply.started": "2024-12-08T19:48:18.353450Z",
          "shell.execute_reply": "2024-12-08T19:48:18.366395Z"
        },
        "trusted": true,
        "colab": {
          "base_uri": "https://localhost:8080/",
          "height": 294
        },
        "id": "x4IN7KAiS18_",
        "outputId": "d7e6aefd-b3e8-4803-f2fa-989ebad7c968"
      },
      "outputs": [
        {
          "output_type": "execute_result",
          "data": {
            "text/plain": [
              "                                                Text  \\\n",
              "0   grandes feuilles opposées, oblongues-elliptiq...   \n",
              "1   feuilles opposées, groupées à l'extrémité des...   \n",
              "2   feuilles opposées, obovées oblongues, arrondi...   \n",
              "3   arbustes  petites feuilles opposées, groupées...   \n",
              "4   arbustes  feuilles opposées ou alternes, obla...   \n",
              "\n",
              "                                      Organ Entities  \\\n",
              "0  ['bouton', 'pédicelle', 'corolle', 'tube', 'fe...   \n",
              "1  ['limbe', 'style', 'filets', 'rameaux', 'sépal...   \n",
              "2  ['corolle', 'limbe', 'ovaire', 'lobes', 'base'...   \n",
              "3  ['anthères', 'pétales', 'tube', 'feuilles', 's...   \n",
              "4  ['base', 'nervure', 'feuilles', 'arbustes', 'l...   \n",
              "\n",
              "                                 Descriptor Entities  \\\n",
              "0  ['fermée', 'pubes-cents', 'cunéiformes', 'vent...   \n",
              "1  ['elliptiques', '1 cm de longueur', 'extrorses...   \n",
              "2  ['cunéiforme', '10,5 mm de longueur', 'long', ...   \n",
              "3  ['secondaires', 'accusé', 'saillantes', 'apicu...   \n",
              "4  ['proéminente', 'décurrente', 'alternes', 'obl...   \n",
              "\n",
              "                           Coarse-grained Annotation  \\\n",
              "0  [(650, 661, 'DESCRIPTEUR'), (968, 977, 'DESCRI...   \n",
              "1  [(609, 618, 'DESCRIPTEUR'), (129, 144, 'DESCRI...   \n",
              "2  [(60, 64, 'ORGANE'), (196, 205, 'DESCRIPTEUR')...   \n",
              "3  [(949, 959, 'DESCRIPTEUR'), (88, 105, 'DESCRIP...   \n",
              "4  [(140, 150, 'DESCRIPTEUR'), (32, 40, 'DESCRIPT...   \n",
              "\n",
              "                             Fine-grained Annotation  \n",
              "0  [(650, 661, 'DESCRIPTEUR'), (395, 407, 'DISPOS...  \n",
              "1  [(609, 618, 'DESCRIPTEUR'), (73, 80, 'FORME'),...  \n",
              "2  [(60, 64, 'ORGANE'), (180, 187, 'ORGANE'), (11...  \n",
              "3  [(949, 959, 'DESCRIPTEUR'), (88, 105, 'DESCRIP...  \n",
              "4  [(42, 54, 'FORME'), (119, 129, 'FORME'), (1, 9...  "
            ],
            "text/html": [
              "\n",
              "  <div id=\"df-52092140-bac6-4776-b0ca-e173015c61e2\" class=\"colab-df-container\">\n",
              "    <div>\n",
              "<style scoped>\n",
              "    .dataframe tbody tr th:only-of-type {\n",
              "        vertical-align: middle;\n",
              "    }\n",
              "\n",
              "    .dataframe tbody tr th {\n",
              "        vertical-align: top;\n",
              "    }\n",
              "\n",
              "    .dataframe thead th {\n",
              "        text-align: right;\n",
              "    }\n",
              "</style>\n",
              "<table border=\"1\" class=\"dataframe\">\n",
              "  <thead>\n",
              "    <tr style=\"text-align: right;\">\n",
              "      <th></th>\n",
              "      <th>Text</th>\n",
              "      <th>Organ Entities</th>\n",
              "      <th>Descriptor Entities</th>\n",
              "      <th>Coarse-grained Annotation</th>\n",
              "      <th>Fine-grained Annotation</th>\n",
              "    </tr>\n",
              "  </thead>\n",
              "  <tbody>\n",
              "    <tr>\n",
              "      <th>0</th>\n",
              "      <td>grandes feuilles opposées, oblongues-elliptiq...</td>\n",
              "      <td>['bouton', 'pédicelle', 'corolle', 'tube', 'fe...</td>\n",
              "      <td>['fermée', 'pubes-cents', 'cunéiformes', 'vent...</td>\n",
              "      <td>[(650, 661, 'DESCRIPTEUR'), (968, 977, 'DESCRI...</td>\n",
              "      <td>[(650, 661, 'DESCRIPTEUR'), (395, 407, 'DISPOS...</td>\n",
              "    </tr>\n",
              "    <tr>\n",
              "      <th>1</th>\n",
              "      <td>feuilles opposées, groupées à l'extrémité des...</td>\n",
              "      <td>['limbe', 'style', 'filets', 'rameaux', 'sépal...</td>\n",
              "      <td>['elliptiques', '1 cm de longueur', 'extrorses...</td>\n",
              "      <td>[(609, 618, 'DESCRIPTEUR'), (129, 144, 'DESCRI...</td>\n",
              "      <td>[(609, 618, 'DESCRIPTEUR'), (73, 80, 'FORME'),...</td>\n",
              "    </tr>\n",
              "    <tr>\n",
              "      <th>2</th>\n",
              "      <td>feuilles opposées, obovées oblongues, arrondi...</td>\n",
              "      <td>['corolle', 'limbe', 'ovaire', 'lobes', 'base'...</td>\n",
              "      <td>['cunéiforme', '10,5 mm de longueur', 'long', ...</td>\n",
              "      <td>[(60, 64, 'ORGANE'), (196, 205, 'DESCRIPTEUR')...</td>\n",
              "      <td>[(60, 64, 'ORGANE'), (180, 187, 'ORGANE'), (11...</td>\n",
              "    </tr>\n",
              "    <tr>\n",
              "      <th>3</th>\n",
              "      <td>arbustes  petites feuilles opposées, groupées...</td>\n",
              "      <td>['anthères', 'pétales', 'tube', 'feuilles', 's...</td>\n",
              "      <td>['secondaires', 'accusé', 'saillantes', 'apicu...</td>\n",
              "      <td>[(949, 959, 'DESCRIPTEUR'), (88, 105, 'DESCRIP...</td>\n",
              "      <td>[(949, 959, 'DESCRIPTEUR'), (88, 105, 'DESCRIP...</td>\n",
              "    </tr>\n",
              "    <tr>\n",
              "      <th>4</th>\n",
              "      <td>arbustes  feuilles opposées ou alternes, obla...</td>\n",
              "      <td>['base', 'nervure', 'feuilles', 'arbustes', 'l...</td>\n",
              "      <td>['proéminente', 'décurrente', 'alternes', 'obl...</td>\n",
              "      <td>[(140, 150, 'DESCRIPTEUR'), (32, 40, 'DESCRIPT...</td>\n",
              "      <td>[(42, 54, 'FORME'), (119, 129, 'FORME'), (1, 9...</td>\n",
              "    </tr>\n",
              "  </tbody>\n",
              "</table>\n",
              "</div>\n",
              "    <div class=\"colab-df-buttons\">\n",
              "\n",
              "  <div class=\"colab-df-container\">\n",
              "    <button class=\"colab-df-convert\" onclick=\"convertToInteractive('df-52092140-bac6-4776-b0ca-e173015c61e2')\"\n",
              "            title=\"Convert this dataframe to an interactive table.\"\n",
              "            style=\"display:none;\">\n",
              "\n",
              "  <svg xmlns=\"http://www.w3.org/2000/svg\" height=\"24px\" viewBox=\"0 -960 960 960\">\n",
              "    <path d=\"M120-120v-720h720v720H120Zm60-500h600v-160H180v160Zm220 220h160v-160H400v160Zm0 220h160v-160H400v160ZM180-400h160v-160H180v160Zm440 0h160v-160H620v160ZM180-180h160v-160H180v160Zm440 0h160v-160H620v160Z\"/>\n",
              "  </svg>\n",
              "    </button>\n",
              "\n",
              "  <style>\n",
              "    .colab-df-container {\n",
              "      display:flex;\n",
              "      gap: 12px;\n",
              "    }\n",
              "\n",
              "    .colab-df-convert {\n",
              "      background-color: #E8F0FE;\n",
              "      border: none;\n",
              "      border-radius: 50%;\n",
              "      cursor: pointer;\n",
              "      display: none;\n",
              "      fill: #1967D2;\n",
              "      height: 32px;\n",
              "      padding: 0 0 0 0;\n",
              "      width: 32px;\n",
              "    }\n",
              "\n",
              "    .colab-df-convert:hover {\n",
              "      background-color: #E2EBFA;\n",
              "      box-shadow: 0px 1px 2px rgba(60, 64, 67, 0.3), 0px 1px 3px 1px rgba(60, 64, 67, 0.15);\n",
              "      fill: #174EA6;\n",
              "    }\n",
              "\n",
              "    .colab-df-buttons div {\n",
              "      margin-bottom: 4px;\n",
              "    }\n",
              "\n",
              "    [theme=dark] .colab-df-convert {\n",
              "      background-color: #3B4455;\n",
              "      fill: #D2E3FC;\n",
              "    }\n",
              "\n",
              "    [theme=dark] .colab-df-convert:hover {\n",
              "      background-color: #434B5C;\n",
              "      box-shadow: 0px 1px 3px 1px rgba(0, 0, 0, 0.15);\n",
              "      filter: drop-shadow(0px 1px 2px rgba(0, 0, 0, 0.3));\n",
              "      fill: #FFFFFF;\n",
              "    }\n",
              "  </style>\n",
              "\n",
              "    <script>\n",
              "      const buttonEl =\n",
              "        document.querySelector('#df-52092140-bac6-4776-b0ca-e173015c61e2 button.colab-df-convert');\n",
              "      buttonEl.style.display =\n",
              "        google.colab.kernel.accessAllowed ? 'block' : 'none';\n",
              "\n",
              "      async function convertToInteractive(key) {\n",
              "        const element = document.querySelector('#df-52092140-bac6-4776-b0ca-e173015c61e2');\n",
              "        const dataTable =\n",
              "          await google.colab.kernel.invokeFunction('convertToInteractive',\n",
              "                                                    [key], {});\n",
              "        if (!dataTable) return;\n",
              "\n",
              "        const docLinkHtml = 'Like what you see? Visit the ' +\n",
              "          '<a target=\"_blank\" href=https://colab.research.google.com/notebooks/data_table.ipynb>data table notebook</a>'\n",
              "          + ' to learn more about interactive tables.';\n",
              "        element.innerHTML = '';\n",
              "        dataTable['output_type'] = 'display_data';\n",
              "        await google.colab.output.renderOutput(dataTable, element);\n",
              "        const docLink = document.createElement('div');\n",
              "        docLink.innerHTML = docLinkHtml;\n",
              "        element.appendChild(docLink);\n",
              "      }\n",
              "    </script>\n",
              "  </div>\n",
              "\n",
              "\n",
              "<div id=\"df-ab9f5721-b818-491f-89ae-e98ba8e76a01\">\n",
              "  <button class=\"colab-df-quickchart\" onclick=\"quickchart('df-ab9f5721-b818-491f-89ae-e98ba8e76a01')\"\n",
              "            title=\"Suggest charts\"\n",
              "            style=\"display:none;\">\n",
              "\n",
              "<svg xmlns=\"http://www.w3.org/2000/svg\" height=\"24px\"viewBox=\"0 0 24 24\"\n",
              "     width=\"24px\">\n",
              "    <g>\n",
              "        <path d=\"M19 3H5c-1.1 0-2 .9-2 2v14c0 1.1.9 2 2 2h14c1.1 0 2-.9 2-2V5c0-1.1-.9-2-2-2zM9 17H7v-7h2v7zm4 0h-2V7h2v10zm4 0h-2v-4h2v4z\"/>\n",
              "    </g>\n",
              "</svg>\n",
              "  </button>\n",
              "\n",
              "<style>\n",
              "  .colab-df-quickchart {\n",
              "      --bg-color: #E8F0FE;\n",
              "      --fill-color: #1967D2;\n",
              "      --hover-bg-color: #E2EBFA;\n",
              "      --hover-fill-color: #174EA6;\n",
              "      --disabled-fill-color: #AAA;\n",
              "      --disabled-bg-color: #DDD;\n",
              "  }\n",
              "\n",
              "  [theme=dark] .colab-df-quickchart {\n",
              "      --bg-color: #3B4455;\n",
              "      --fill-color: #D2E3FC;\n",
              "      --hover-bg-color: #434B5C;\n",
              "      --hover-fill-color: #FFFFFF;\n",
              "      --disabled-bg-color: #3B4455;\n",
              "      --disabled-fill-color: #666;\n",
              "  }\n",
              "\n",
              "  .colab-df-quickchart {\n",
              "    background-color: var(--bg-color);\n",
              "    border: none;\n",
              "    border-radius: 50%;\n",
              "    cursor: pointer;\n",
              "    display: none;\n",
              "    fill: var(--fill-color);\n",
              "    height: 32px;\n",
              "    padding: 0;\n",
              "    width: 32px;\n",
              "  }\n",
              "\n",
              "  .colab-df-quickchart:hover {\n",
              "    background-color: var(--hover-bg-color);\n",
              "    box-shadow: 0 1px 2px rgba(60, 64, 67, 0.3), 0 1px 3px 1px rgba(60, 64, 67, 0.15);\n",
              "    fill: var(--button-hover-fill-color);\n",
              "  }\n",
              "\n",
              "  .colab-df-quickchart-complete:disabled,\n",
              "  .colab-df-quickchart-complete:disabled:hover {\n",
              "    background-color: var(--disabled-bg-color);\n",
              "    fill: var(--disabled-fill-color);\n",
              "    box-shadow: none;\n",
              "  }\n",
              "\n",
              "  .colab-df-spinner {\n",
              "    border: 2px solid var(--fill-color);\n",
              "    border-color: transparent;\n",
              "    border-bottom-color: var(--fill-color);\n",
              "    animation:\n",
              "      spin 1s steps(1) infinite;\n",
              "  }\n",
              "\n",
              "  @keyframes spin {\n",
              "    0% {\n",
              "      border-color: transparent;\n",
              "      border-bottom-color: var(--fill-color);\n",
              "      border-left-color: var(--fill-color);\n",
              "    }\n",
              "    20% {\n",
              "      border-color: transparent;\n",
              "      border-left-color: var(--fill-color);\n",
              "      border-top-color: var(--fill-color);\n",
              "    }\n",
              "    30% {\n",
              "      border-color: transparent;\n",
              "      border-left-color: var(--fill-color);\n",
              "      border-top-color: var(--fill-color);\n",
              "      border-right-color: var(--fill-color);\n",
              "    }\n",
              "    40% {\n",
              "      border-color: transparent;\n",
              "      border-right-color: var(--fill-color);\n",
              "      border-top-color: var(--fill-color);\n",
              "    }\n",
              "    60% {\n",
              "      border-color: transparent;\n",
              "      border-right-color: var(--fill-color);\n",
              "    }\n",
              "    80% {\n",
              "      border-color: transparent;\n",
              "      border-right-color: var(--fill-color);\n",
              "      border-bottom-color: var(--fill-color);\n",
              "    }\n",
              "    90% {\n",
              "      border-color: transparent;\n",
              "      border-bottom-color: var(--fill-color);\n",
              "    }\n",
              "  }\n",
              "</style>\n",
              "\n",
              "  <script>\n",
              "    async function quickchart(key) {\n",
              "      const quickchartButtonEl =\n",
              "        document.querySelector('#' + key + ' button');\n",
              "      quickchartButtonEl.disabled = true;  // To prevent multiple clicks.\n",
              "      quickchartButtonEl.classList.add('colab-df-spinner');\n",
              "      try {\n",
              "        const charts = await google.colab.kernel.invokeFunction(\n",
              "            'suggestCharts', [key], {});\n",
              "      } catch (error) {\n",
              "        console.error('Error during call to suggestCharts:', error);\n",
              "      }\n",
              "      quickchartButtonEl.classList.remove('colab-df-spinner');\n",
              "      quickchartButtonEl.classList.add('colab-df-quickchart-complete');\n",
              "    }\n",
              "    (() => {\n",
              "      let quickchartButtonEl =\n",
              "        document.querySelector('#df-ab9f5721-b818-491f-89ae-e98ba8e76a01 button');\n",
              "      quickchartButtonEl.style.display =\n",
              "        google.colab.kernel.accessAllowed ? 'block' : 'none';\n",
              "    })();\n",
              "  </script>\n",
              "</div>\n",
              "\n",
              "    </div>\n",
              "  </div>\n"
            ],
            "application/vnd.google.colaboratory.intrinsic+json": {
              "type": "dataframe",
              "variable_name": "df",
              "summary": "{\n  \"name\": \"df\",\n  \"rows\": 838,\n  \"fields\": [\n    {\n      \"column\": \"Text\",\n      \"properties\": {\n        \"dtype\": \"string\",\n        \"num_unique_values\": 836,\n        \"samples\": [\n          \" arbuste gr\\u00eale, de 1-4 (-6) m, parfois pseudo-monocaule, \\u00b1 pubescent  ramules \\u00b1 l\\u00e2chement group\\u00e9es vers l'extr\\u00e9mit\\u00e9 des axes orthotropes ; axes pouvant atteindre 50 cm, subcylindriques, portant de 10 \\u00e0 plus de 50 feuilles  feuilles g\\u00e9n\\u00e9ralement oppos\\u00e9es vers la base des ramules, alternes vers l'extr\\u00e9mit\\u00e9, parfois toutes oppos\\u00e9es ou toutes alternes ; stipules \\u00e9troitement lanc\\u00e9ol\\u00e9es, de 2-3 mm, souvent assez persistantes ; p\\u00e9tiole de 1-2 mm ; limbe ov\\u00e9 \\u00e0 ov\\u00e9-lanc\\u00e9ol\\u00e9, de 1,5-9 x 1-5 cm, \\u00e0 base \\u00b1 cord\\u00e9e, \\u00e0 sommet arrondi, rarement subaigu, parchemin\\u00e9 ; nervures secondaires 4-8 paires ; reticulum tertiaire assez l\\u00e2che, parfois masqu\\u00e9 par le rev\\u00eatement papilleux en dessous  inflorescences s en pseudo-fascicules pauci- ou pluriflores, \\u00b1 velues  fleurs \\u00e1 jaun\\u00e2tres, \\u00e0 p\\u00e9dicelle filiforme, de 2-10 mm  t\\u00e9pales externes ov\\u00e9s-lanc\\u00e9ol\\u00e9s, longs de 2-3 mm, les internes atteignant 3-6 mm \\u00e0 l'anth\\u00e8se, obtus  \\u00e9tamines \\u00e0 anth\\u00e8res de 1 mm env  ; connectif prolong\\u00e9 en pointe  fleurs 2 isol\\u00e9es ou associ\\u00e9es \\u00e0 quelques fleurs \\u00e0, situ\\u00e9es vers la base des ramules lorsque ces derni\\u00e8res portent aussi des inflorescences s ; p\\u00e9dicelle filiforme, de 5-30 mm, raide, s'\\u00e9paississant progressivement vers l'extr\\u00e9mit\\u00e9, velu  t\\u00e9pales 6, oblongs ou lanc\\u00e9ol\\u00e9s, \\u00b1 velus, les externes de 2 mm env , les internes nettement plus courts  styles de 1,5-3 mm, enti\\u00e8rement libres ou conn\\u00e9s \\u00e0 la base, dress\\u00e9s, \\u00b1 effil\\u00e9s vers le sommet, \\u00b1 pubescents  fruits de 4-6 mm de diam\\u00e8tre, jaun\\u00e2tres  graines de 3-4 mm, orn\\u00e9es de fines ponctuations  \",\n          \" arbre de 10-20 m, \\u00e0 tronc de 30-45 cm de diam\\u00e8tre, fleurissant exceptionnellement d\\u00e8s la taille de 2 m ; large moelle ; \\u00e9corce gris clair \\u00e0 brune, craquel\\u00e9e dans le sens longitudinal ; vieux rameaux lenticell\\u00e9s, \\u00e0 cicatrices foliaires cordiformes ; rameaux feuilles de 5-7 mm de diam\\u00e8tre env  feuilles presque glabres ; p\\u00e9tiole long de 15-45 mm, de section cylindrique, noircissant au s\\u00e9chage ; limbe de (4-)10-14 x (3,5-)6,5-8 cm, ov\\u00e9, \\u00e0 sommet obtus \\u00e0 arrondi , parfois \\u00e9margin\\u00e9, \\u00e0 base aigu\\u00eb \\u00e0 23 flore de la nouvelle-caledonie att\\u00e9nu\\u00e9e, suboblique, \\u00e0 marge enti\\u00e8re au stade adulte mais profond\\u00e9ment et irr\\u00e9guli\\u00e8rement serret\\u00e9e au stade juv\\u00e9nile avec des dents mucron\\u00e9es et un sommet subaigu  nervation pro\\u00e9minente sur les deux faces sur le sec ; nervures lat\\u00e9rales env  5 de chaque cot\\u00e9, partant \\u00e0 45\\u00b0 env , \\u00e0 anses d'anastomose \\u00e0 25 % de la distance aux marges  inflorescence : thyrse contract\\u00e9, de 15 x 20 cm env , \\u00e0 fleurs peu nombreuses, \\u00e0 axes presque glabres ; axe principal long de 1,5-4 cm, les lat\\u00e9raux de 1,5 cm env  ; p\\u00e9dicelles de 6 mm, se confondant avec le calice  calice de 9 x 8 mm env , campanule, rouge sombre, accrescent, souvent pourvu de glandes punctiformes, \\u00e0 bord tronqu\\u00e9  corolle d'abord jaune puis jaune ros\\u00e9, longue de 5,5 cm env  \\u00e0 l'anth\\u00e8se (lobes refl\\u00e9chis), ext\\u00e9rieurement soyeuse \\u00e0 finement tomenteuse ; tube l\\u00e9g\\u00e8rement falqu\\u00e9, de 7 mm de diam\\u00e8tre env  \\u00e0 la base, s'\\u00e9largissant jusqu'\\u00e0 20 mm \\u00e0 la gorge ; lobes arrondis, de 8 x 10 mm env , l'inf\\u00e9rieur \\u00e9tant le plus grand  etamines exsertes, longues de 4,7 cm env , ins\\u00e9r\\u00e9es \\u00e0 1,8 cm env  de la base du tube, pourvues de longs poils \\u00e0 la base, glanduleuses au sommet ; anth\\u00e8res longues de 4,5 mm env  ; staminodes absents  ovaire long de 5 mm env , sph\\u00e9rique, glabre ; style de 7,2 cm env , longuement exsert, glabre sauf au sommet glanduleux ; stigmate \\u00e0 minuscule lobe post\\u00e9rieur, dentiforme, l'ant\\u00e9rieur long de 1,2 mm env  fruit (sec) long de 3,5 cm env , \\u00e0 endocarpe obconique nettement 4-lob\\u00e9, rouge sur le frais ; calice hypocrat\\u00e9riforme, de 11 mm de diam\\u00e8tre env  - pi\",\n          \" plante terrestre rarement epiphyte, \\u00e0 tige raide de 4-10 mm de diam\\u00e8tre, comme un petit bambou, haute de 30-80 cm  feuilles coriaces, espac\\u00e9es de 0,5-2 (-3) cm, bien distiques, \\u00e0 gaines tubuleuses imbriqu\\u00e9es; limbe de 4-15 (-17,5) x 0,6-1,6 cm, longuement att\\u00e9nu\\u00e9 vers le sommet qui est ordinairement termin\\u00e9 par une petite pointe  scape long de (1-) 4-13 cm apr\\u00e8s la derni\\u00e8re feuille  rachis \\u00e0 articles d\\u00e9croissants, tr\\u00e8s contract\\u00e9 vers l'extr\\u00e9mit\\u00e9  fleurs blanches, jaunes ou vertes, ou vert jaun\\u00e2tre \\u00e0 labelle cr\\u00e8me, group\\u00e9es en denses petits panicules lat\\u00e9raux  s\\u00e9pales longs de 6 mm  colonne tr\\u00e8s droite  pollinie de 4 et non 8 \\u00e9l\\u00e9ments  fruits sessiles longs de 15 mm; fruits m\\u00fbrs et graines non vus\"\n        ],\n        \"semantic_type\": \"\",\n        \"description\": \"\"\n      }\n    },\n    {\n      \"column\": \"Organ Entities\",\n      \"properties\": {\n        \"dtype\": \"string\",\n        \"num_unique_values\": 833,\n        \"samples\": [\n          \"['fruits', 'ramules', 'axes', 'base', 'p\\u00e9dicelle', 'anth\\u00e8se', 'p\\u00e9tiole', 'connectif', 'arbuste', 't\\u00e9pales', 'p\\u00e9dicelle', 'fleurs', 't\\u00e9pales', 'ovaire', 'base', 'feuilles', 'styles', 'insertions', 'stipules', '\\u00e9tamines', 'fleurs', 'feuilles', 'nervures', 'anth\\u00e8re', 'limbe']\",\n          \"['calice', 'style', 'glandes', 'p\\u00e9tiole', 'calice', 'anth\\u00e8res', 'inflorescence', 'dents', 'corolle', 'limbe', 'thyrse', 'lobes', 'base', 'lobes', 'bord', 'poils', 'rameaux', 'moelle', 'p\\u00e9dicelles', 'base', 'arbre', 'rameaux', 'cicatrices', 'marge', 'tronc', 'calice', 'axes', 'fruit', 'ovaire', 'stigmate', 'feuilles', 'anth\\u00e8se', '\\u00e9corce', 'staminodes', 'nervation', 'fleurs', 'anastomose', 'tube', 'nervures', 'marge', 'feuilles', 'base', 'base', 'endocarpe', 'tube']\",\n          \"['tige', 'base', 'inflorescences', 'p\\u00e9doncule', 'scape', 'gaines', 'limbes', 'feuilles', 'p\\u00e9tale', 'labelle', 'fleurs', 'ovaire', 'p\\u00e9doncule', 'charnus', 'grappe']\"\n        ],\n        \"semantic_type\": \"\",\n        \"description\": \"\"\n      }\n    },\n    {\n      \"column\": \"Descriptor Entities\",\n      \"properties\": {\n        \"dtype\": \"string\",\n        \"num_unique_values\": 826,\n        \"samples\": [\n          \"['aigu', 'libre', 'brillante', 'inf\\u00e8re', 'apprim\\u00e9', 'glabres', 'pubescente', 'elliptique', 'r\\u00e9volut\\u00e9es', 'rouge', 'compos\\u00e9es', 'saillantes', 'spatul\\u00e9es', 'exsertes']\",\n          \"['elliptiques', 'glabre', 'oblanc\\u00e9ol\\u00e9es', 'acumin\\u00e9', 'obtus', 'luisantes', 'coriaces']\",\n          \"['apicale', '1-2 mm de largeur', 'rampant', 'att\\u00e9nu\\u00e9s', 'st\\u00e9rile', 'pro\\u00e9minente', 'digit\\u00e9e', 'triqu\\u00e8tres', 'lin\\u00e9aires', 'glabre', 'claires']\"\n        ],\n        \"semantic_type\": \"\",\n        \"description\": \"\"\n      }\n    },\n    {\n      \"column\": \"Coarse-grained Annotation\",\n      \"properties\": {\n        \"dtype\": \"string\",\n        \"num_unique_values\": 836,\n        \"samples\": [\n          \"[(898, 903, 'DESCRIPTEUR'), (120, 124, 'ORGANE'), (781, 790, 'DESCRIPTEUR'), (1305, 1311, 'DESCRIPTEUR'), (970, 976, 'ORGANE'), (741, 747, 'DESCRIPTEUR'), (565, 576, 'DESCRIPTEUR'), (352, 360, 'ORGANE'), (213, 221, 'ORGANE'), (1046, 1053, 'ORGANE'), (1373, 1380, 'DESCRIPTEUR'), (1, 8, 'ORGANE'), (1037, 1041, 'ORGANE'), (125, 136, 'DESCRIPTEUR'), (916, 924, 'ORGANE'), (1355, 1361, 'DESCRIPTEUR'), (1384, 1391, 'DESCRIPTEUR'), (245, 253, 'DESCRIPTEUR'), (749, 755, 'ORGANE'), (804, 811, 'ORGANE'), (1113, 1122, 'ORGANE'), (1208, 1215, 'ORGANE'), (280, 288, 'DESCRIPTEUR'), (271, 278, 'ORGANE'), (425, 432, 'ORGANE'), (445, 450, 'ORGANE'), (1345, 1351, 'DESCRIPTEUR'), (59, 68, 'DESCRIPTEUR'), (821, 835, 'DESCRIPTEUR'), (698, 715, 'ORGANE'), (1219, 1226, 'DESCRIPTEUR'), (70, 77, 'ORGANE'), (1313, 1319, 'ORGANE'), (410, 422, 'DESCRIPTEUR'), (499, 505, 'DESCRIPTEUR'), (1432, 1450, 'DESCRIPTEUR'), (556, 564, 'ORGANE'), (940, 949, 'ORGANE'), (889, 896, 'ORGANE'), (1367, 1371, 'ORGANE'), (543, 553, 'DESCRIPTEUR'), (1498, 1510, 'ORGANE'), (1094, 1108, 'ORGANE'), (656, 665, 'DESCRIPTEUR'), (492, 496, 'ORGANE'), (678, 692, 'ORGANE'), (341, 349, 'DESCRIPTEUR'), (1011, 1017, 'ORGANE'), (223, 231, 'ORGANE'), (39, 55, 'DESCRIPTEUR'), (1123, 1132, 'DESCRIPTEUR'), (373, 383, 'DESCRIPTEUR'), (322, 330, 'DESCRIPTEUR'), (1463, 1470, 'ORGANE'), (905, 913, 'ORGANE'), (262, 266, 'ORGANE'), (139, 143, 'ORGANE'), (771, 780, 'ORGANE'), (1422, 1428, 'ORGANE')]\",\n          \"[(1979, 1985, 'DESCRIPTEUR'), (1819, 1829, 'DESCRIPTEUR'), (1357, 1363, 'DESCRIPTEUR'), (1084, 1090, 'ORGANE'), (532, 540, 'DESCRIPTEUR'), (21, 26, 'ORGANE'), (623, 631, 'DESCRIPTEUR'), (121, 127, 'ORGANE'), (1914, 1919, 'ORGANE'), (30, 50, 'DESCRIPTEUR'), (311, 318, 'DESCRIPTEUR'), (1503, 1508, 'DESCRIPTEUR'), (1756, 1761, 'ORGANE'), (473, 481, 'DESCRIPTEUR'), (1858, 1868, 'DESCRIPTEUR'), (659, 664, 'ORGANE'), (192, 199, 'ORGANE'), (1710, 1716, 'ORGANE'), (1625, 1629, 'ORGANE'), (1034, 1044, 'ORGANE'), (272, 288, 'DESCRIPTEUR'), (2000, 2005, 'DESCRIPTEUR'), (1442, 1447, 'ORGANE'), (962, 969, 'DESCRIPTEUR'), (1202, 1209, 'ORGANE'), (112, 118, 'ORGANE'), (891, 900, 'DESCRIPTEUR'), (751, 759, 'ORGANE'), (1, 6, 'ORGANE'), (1229, 1234, 'DESCRIPTEUR'), (1553, 1561, 'DESCRIPTEUR'), (270, 288, 'DESCRIPTEUR'), (1959, 1968, 'DESCRIPTEUR'), (447, 452, 'DESCRIPTEUR'), (1832, 1840, 'ORGANE'), (396, 401, 'ORGANE'), (1193, 1200, 'DESCRIPTEUR'), (321, 328, 'ORGANE'), (1656, 1664, 'ORGANE'), (2036, 2053, 'DESCRIPTEUR'), (250, 257, 'ORGANE'), (294, 302, 'ORGANE'), (258, 266, 'ORGANE'), (1395, 1399, 'ORGANE'), (665, 674, 'DESCRIPTEUR'), (823, 833, 'ORGANE'), (1172, 1184, 'DESCRIPTEUR'), (133, 138, 'DESCRIPTEUR'), (1120, 1125, 'DESCRIPTEUR'), (924, 930, 'ORGANE'), (1218, 1223, 'DESCRIPTEUR'), (556, 561, 'ORGANE'), (171, 183, 'DESCRIPTEUR'), (884, 890, 'ORGANE'), (1341, 1345, 'ORGANE'), (1590, 1594, 'ORGANE'), (236, 247, 'DESCRIPTEUR'), (868, 881, 'ORGANE'), (935, 945, 'DESCRIPTEUR'), (1076, 1082, 'ORGANE'), (1582, 1586, 'ORGANE'), (1519, 1527, 'DESCRIPTEUR'), (2008, 2014, 'ORGANE'), (1188, 1192, 'ORGANE'), (1987, 1992, 'DESCRIPTEUR'), (1164, 1171, 'ORGANE'), (485, 489, 'ORGANE'), (215, 225, 'ORGANE'), (949, 953, 'ORGANE'), (697, 706, 'ORGANE'), (1614, 1619, 'ORGANE'), (1949, 1958, 'ORGANE'), (1690, 1700, 'ORGANE'), (1267, 1274, 'ORGANE'), (1276, 1281, 'ORGANE'), (1134, 1144, 'DESCRIPTEUR'), (226, 235, 'DESCRIPTEUR'), (707, 718, 'DESCRIPTEUR'), (1368, 1384, 'DESCRIPTEUR')]\",\n          \"[(676, 682, 'ORGANE'), (590, 597, 'ORGANE'), (651, 659, 'DESCRIPTEUR'), (53, 72, 'DESCRIPTEUR'), (39, 43, 'ORGANE'), (116, 124, 'ORGANE'), (424, 433, 'DESCRIPTEUR'), (506, 513, 'ORGANE'), (396, 404, 'ORGANE'), (257, 264, 'DESCRIPTEUR'), (210, 215, 'ORGANE'), (611, 619, 'ORGANE'), (167, 176, 'DESCRIPTEUR'), (8, 17, 'DESCRIPTEUR'), (469, 475, 'DESCRIPTEUR'), (125, 133, 'DESCRIPTEUR'), (333, 338, 'ORGANE'), (452, 458, 'ORGANE'), (683, 687, 'DESCRIPTEUR'), (1, 7, 'ORGANE'), (644, 650, 'ORGANE'), (180, 186, 'ORGANE'), (387, 393, 'ORGANE'), (479, 485, 'DESCRIPTEUR'), (547, 556, 'ORGANE'), (198, 208, 'DESCRIPTEUR'), (459, 467, 'DESCRIPTEUR'), (567, 574, 'ORGANE'), (691, 698, 'ORGANE'), (603, 609, 'DESCRIPTEUR')]\"\n        ],\n        \"semantic_type\": \"\",\n        \"description\": \"\"\n      }\n    },\n    {\n      \"column\": \"Fine-grained Annotation\",\n      \"properties\": {\n        \"dtype\": \"string\",\n        \"num_unique_values\": 836,\n        \"samples\": [\n          \"[(120, 124, 'ORGANE'), (1305, 1311, 'DESCRIPTEUR'), (970, 976, 'ORGANE'), (352, 360, 'ORGANE'), (213, 221, 'ORGANE'), (1046, 1053, 'ORGANE'), (1432, 1450, 'MESURE'), (1373, 1380, 'DESCRIPTEUR'), (1, 8, 'ORGANE'), (1037, 1041, 'ORGANE'), (59, 68, 'SURFACE'), (916, 924, 'ORGANE'), (1384, 1391, 'DESCRIPTEUR'), (565, 576, 'POSITION'), (39, 55, 'STRUCTURE'), (749, 755, 'ORGANE'), (804, 811, 'ORGANE'), (1113, 1122, 'ORGANE'), (1208, 1215, 'ORGANE'), (271, 278, 'ORGANE'), (425, 432, 'ORGANE'), (445, 450, 'ORGANE'), (1345, 1351, 'DESCRIPTEUR'), (1219, 1226, 'FORME'), (821, 835, 'DESCRIPTEUR'), (698, 715, 'ORGANE'), (499, 505, 'FORME'), (70, 77, 'ORGANE'), (1313, 1319, 'ORGANE'), (410, 422, 'DESCRIPTEUR'), (341, 349, 'DISPOSITION'), (280, 288, 'DISPOSITION'), (556, 564, 'ORGANE'), (940, 949, 'ORGANE'), (889, 896, 'ORGANE'), (322, 330, 'DISPOSITION'), (1367, 1371, 'ORGANE'), (543, 553, 'DESCRIPTEUR'), (781, 790, 'FORME'), (1498, 1510, 'ORGANE'), (1094, 1108, 'ORGANE'), (656, 665, 'DESCRIPTEUR'), (492, 496, 'ORGANE'), (125, 136, 'DISPOSITION'), (898, 903, 'FORME'), (678, 692, 'ORGANE'), (1123, 1132, 'FORME'), (373, 383, 'FORME'), (1355, 1361, 'DISPOSITION'), (741, 747, 'SURFACE'), (1011, 1017, 'ORGANE'), (223, 231, 'ORGANE'), (245, 253, 'DISPOSITION'), (1463, 1470, 'ORGANE'), (905, 913, 'ORGANE'), (262, 266, 'ORGANE'), (139, 143, 'ORGANE'), (771, 780, 'ORGANE'), (1422, 1428, 'ORGANE')]\",\n          \"[(1084, 1090, 'ORGANE'), (532, 540, 'DESCRIPTEUR'), (21, 26, 'ORGANE'), (623, 631, 'DESCRIPTEUR'), (121, 127, 'ORGANE'), (311, 318, 'SURFACE'), (1979, 1985, 'STRUCTURE'), (1914, 1919, 'ORGANE'), (1503, 1508, 'DESCRIPTEUR'), (1756, 1761, 'ORGANE'), (1519, 1527, 'STRUCTURE'), (1858, 1868, 'DESCRIPTEUR'), (659, 664, 'ORGANE'), (192, 199, 'ORGANE'), (1710, 1716, 'ORGANE'), (1625, 1629, 'ORGANE'), (1034, 1044, 'ORGANE'), (1357, 1363, 'FORME'), (2000, 2005, 'DESCRIPTEUR'), (1442, 1447, 'ORGANE'), (1202, 1209, 'ORGANE'), (112, 118, 'ORGANE'), (891, 900, 'DESCRIPTEUR'), (751, 759, 'ORGANE'), (1, 6, 'ORGANE'), (1553, 1561, 'DESCRIPTEUR'), (1832, 1840, 'ORGANE'), (1368, 1384, 'MESURE'), (1193, 1200, 'FORME'), (396, 401, 'ORGANE'), (473, 481, 'FORME'), (321, 328, 'ORGANE'), (1656, 1664, 'ORGANE'), (30, 50, 'MESURE'), (250, 257, 'ORGANE'), (294, 302, 'ORGANE'), (258, 266, 'ORGANE'), (1395, 1399, 'ORGANE'), (1959, 1968, 'FORME'), (823, 833, 'ORGANE'), (1229, 1234, 'COULEUR'), (447, 452, 'FORME'), (272, 288, 'MESURE'), (133, 138, 'DESCRIPTEUR'), (924, 930, 'ORGANE'), (1819, 1829, 'SURFACE'), (270, 288, 'MESURE'), (1218, 1223, 'COULEUR'), (556, 561, 'ORGANE'), (236, 247, 'FORME'), (171, 183, 'DESCRIPTEUR'), (884, 890, 'ORGANE'), (1341, 1345, 'ORGANE'), (1590, 1594, 'ORGANE'), (868, 881, 'ORGANE'), (935, 945, 'DESCRIPTEUR'), (1076, 1082, 'ORGANE'), (1582, 1586, 'ORGANE'), (665, 674, 'FORME'), (2008, 2014, 'ORGANE'), (1188, 1192, 'ORGANE'), (1172, 1184, 'FORME'), (1164, 1171, 'ORGANE'), (485, 489, 'ORGANE'), (215, 225, 'ORGANE'), (949, 953, 'ORGANE'), (697, 706, 'ORGANE'), (1987, 1992, 'COULEUR'), (2036, 2053, 'MESURE'), (1614, 1619, 'ORGANE'), (1949, 1958, 'ORGANE'), (1690, 1700, 'ORGANE'), (1267, 1274, 'ORGANE'), (1276, 1281, 'ORGANE'), (1134, 1144, 'DESCRIPTEUR'), (226, 235, 'DESCRIPTEUR'), (707, 718, 'DESCRIPTEUR'), (1120, 1125, 'COULEUR'), (962, 969, 'SURFACE')]\",\n          \"[(459, 467, 'COULEUR'), (676, 682, 'ORGANE'), (590, 597, 'ORGANE'), (167, 176, 'DISPOSITION'), (39, 43, 'ORGANE'), (116, 124, 'ORGANE'), (424, 433, 'DESCRIPTEUR'), (506, 513, 'ORGANE'), (396, 404, 'ORGANE'), (257, 264, 'DESCRIPTEUR'), (210, 215, 'ORGANE'), (611, 619, 'ORGANE'), (651, 659, 'STRUCTURE'), (8, 17, 'DESCRIPTEUR'), (125, 133, 'DESCRIPTEUR'), (333, 338, 'ORGANE'), (452, 458, 'ORGANE'), (469, 475, 'COULEUR'), (683, 687, 'DESCRIPTEUR'), (1, 7, 'ORGANE'), (644, 650, 'ORGANE'), (180, 186, 'ORGANE'), (53, 72, 'MESURE'), (387, 393, 'ORGANE'), (547, 556, 'ORGANE'), (198, 208, 'DESCRIPTEUR'), (567, 574, 'ORGANE'), (479, 485, 'COULEUR'), (691, 698, 'ORGANE'), (603, 609, 'DESCRIPTEUR')]\"\n        ],\n        \"semantic_type\": \"\",\n        \"description\": \"\"\n      }\n    }\n  ]\n}"
            }
          },
          "metadata": {},
          "execution_count": 3
        }
      ],
      "execution_count": 3
    },
    {
      "cell_type": "code",
      "source": [],
      "metadata": {
        "trusted": true,
        "id": "CK9sxSziS19A"
      },
      "outputs": [],
      "execution_count": 3
    },
    {
      "cell_type": "markdown",
      "source": [
        "## First step :\n",
        "\n",
        "We are going to create tagged words.\n",
        "In \"Coarse-grained Annotation\" we have tuples each one has : (start position, end position, TAG ).\n",
        "In text we are going to initialize all words to \"O\" after processing using the start and end position of the tags, we will split the text into words and map the tags to words. If a word contains any tagged characters, assign the first non-\"O\" tag to the word."
      ],
      "metadata": {
        "id": "DMEaaPycS19A"
      }
    },
    {
      "cell_type": "code",
      "source": [
        "import ast\n",
        "\n",
        "def parse_annotations(annotation_str):\n",
        "    # Convert string to list of tuples\n",
        "    return ast.literal_eval(annotation_str)\n",
        "\n",
        "def generate_ner_tags(text, annotations):\n",
        "    tags = [\"O\"] * len(text)\n",
        "\n",
        "    for start, end, label in annotations:\n",
        "        tags[start] = label  # Use only the label without prefixes\n",
        "        for i in range(start + 1, end):\n",
        "            tags[i] = label  # Use only the label without prefixes\n",
        "\n",
        "    words = text.split()\n",
        "    word_tags = []\n",
        "    current_idx = 0\n",
        "\n",
        "    for word in words:\n",
        "        word_start = current_idx\n",
        "        word_end = current_idx + len(word)\n",
        "        word_tag = tags[word_start:word_end]\n",
        "\n",
        "        if all(tag == \"O\" for tag in word_tag):\n",
        "            word_tags.append((word, \"O\"))\n",
        "        else:\n",
        "            non_o_tags = [tag for tag in word_tag if tag != \"O\"]\n",
        "            word_tags.append((word, non_o_tags[0]))  # Use the first tag found\n",
        "\n",
        "        current_idx = word_end + 1  # Move index to the next word\n",
        "\n",
        "    return word_tags\n",
        "\n",
        "tagged_sentences = []\n",
        "\n",
        "for index, row in df.iterrows():\n",
        "    text = row[\"Text\"]\n",
        "    annotations = parse_annotations(row[\"Fine-grained Annotation\"])  # Parse annotation string\n",
        "    word_tags = generate_ner_tags(text, annotations)\n",
        "    tagged_sentences.append((word_tags))\n"
      ],
      "metadata": {
        "execution": {
          "iopub.status.busy": "2024-12-08T19:48:19.871753Z",
          "iopub.execute_input": "2024-12-08T19:48:19.872246Z",
          "iopub.status.idle": "2024-12-08T19:48:20.620313Z",
          "shell.execute_reply.started": "2024-12-08T19:48:19.872207Z",
          "shell.execute_reply": "2024-12-08T19:48:20.619254Z"
        },
        "trusted": true,
        "id": "K1RsP_uAS19A"
      },
      "outputs": [],
      "execution_count": 4
    },
    {
      "cell_type": "code",
      "source": [
        "X = []\n",
        "Y = []\n",
        "\n",
        "for sentence in tagged_sentences:\n",
        "    X_sentence = []\n",
        "    Y_sentence = []\n",
        "    for entity in sentence:\n",
        "        X_sentence.append(entity[0].lower())\n",
        "        Y_sentence.append(entity[1])\n",
        "\n",
        "    X.append(X_sentence)\n",
        "    Y.append(Y_sentence)"
      ],
      "metadata": {
        "execution": {
          "iopub.status.busy": "2024-12-08T19:48:20.797833Z",
          "iopub.execute_input": "2024-12-08T19:48:20.798257Z",
          "iopub.status.idle": "2024-12-08T19:48:20.870724Z",
          "shell.execute_reply.started": "2024-12-08T19:48:20.798221Z",
          "shell.execute_reply": "2024-12-08T19:48:20.869404Z"
        },
        "trusted": true,
        "id": "NVT3LSoRS19B"
      },
      "outputs": [],
      "execution_count": 5
    },
    {
      "cell_type": "code",
      "source": [
        "print(\"Total number of sentences: {}\".format(len(X)))"
      ],
      "metadata": {
        "execution": {
          "iopub.status.busy": "2024-12-08T19:48:21.595220Z",
          "iopub.execute_input": "2024-12-08T19:48:21.595684Z",
          "iopub.status.idle": "2024-12-08T19:48:21.602622Z",
          "shell.execute_reply.started": "2024-12-08T19:48:21.595648Z",
          "shell.execute_reply": "2024-12-08T19:48:21.601098Z"
        },
        "trusted": true,
        "colab": {
          "base_uri": "https://localhost:8080/"
        },
        "id": "sHwNPwoBS19C",
        "outputId": "eef7921a-e201-4efc-c9c2-33fa334950cc"
      },
      "outputs": [
        {
          "output_type": "stream",
          "name": "stdout",
          "text": [
            "Total number of sentences: 838\n"
          ]
        }
      ],
      "execution_count": 6
    },
    {
      "cell_type": "code",
      "source": [
        "vocab = set([word.lower() for sentence in X for word in sentence])\n",
        "num_words = len(set([word.lower() for sentence in X for word in sentence]))\n",
        "\n",
        "print(\"Vocabulary size: {}\".format(num_words))"
      ],
      "metadata": {
        "execution": {
          "iopub.status.busy": "2024-12-08T19:48:22.350359Z",
          "iopub.execute_input": "2024-12-08T19:48:22.350916Z",
          "iopub.status.idle": "2024-12-08T19:48:22.456189Z",
          "shell.execute_reply.started": "2024-12-08T19:48:22.350842Z",
          "shell.execute_reply": "2024-12-08T19:48:22.455009Z"
        },
        "trusted": true,
        "colab": {
          "base_uri": "https://localhost:8080/"
        },
        "id": "zJ36B9tPS19C",
        "outputId": "57b33549-bd6c-475e-e43c-4724b5d71ab9"
      },
      "outputs": [
        {
          "output_type": "stream",
          "name": "stdout",
          "text": [
            "Vocabulary size: 12601\n"
          ]
        }
      ],
      "execution_count": 7
    },
    {
      "cell_type": "code",
      "source": [
        "tags = set([word for sentence in Y for word in sentence])\n",
        "num_tags = len(set([word for sentence in Y for word in sentence]))\n",
        "\n",
        "print(tags)"
      ],
      "metadata": {
        "execution": {
          "iopub.status.busy": "2024-12-08T19:48:23.332306Z",
          "iopub.execute_input": "2024-12-08T19:48:23.332820Z",
          "iopub.status.idle": "2024-12-08T19:48:23.368525Z",
          "shell.execute_reply.started": "2024-12-08T19:48:23.332775Z",
          "shell.execute_reply": "2024-12-08T19:48:23.367291Z"
        },
        "trusted": true,
        "colab": {
          "base_uri": "https://localhost:8080/"
        },
        "id": "NQ6D-6SCS19C",
        "outputId": "5bdf7aa8-8808-4e7e-b1d7-17c895a0263c"
      },
      "outputs": [
        {
          "output_type": "stream",
          "name": "stdout",
          "text": [
            "{'O', 'COULEUR', 'POSITION', 'DEVELOPPEMENT', 'SURFACE', 'FORME', 'ORGANE', 'DESCRIPTEUR', 'STRUCTURE', 'DISPOSITION', 'MESURE'}\n"
          ]
        }
      ],
      "execution_count": 8
    },
    {
      "cell_type": "code",
      "source": [
        "word_to_ix = {}\n",
        "\n",
        "for word in vocab:\n",
        "  if word not in word_to_ix:\n",
        "    word_to_ix[word] = len(word_to_ix)"
      ],
      "metadata": {
        "execution": {
          "iopub.status.busy": "2024-12-08T19:48:24.238564Z",
          "iopub.execute_input": "2024-12-08T19:48:24.239746Z",
          "iopub.status.idle": "2024-12-08T19:48:24.252597Z",
          "shell.execute_reply.started": "2024-12-08T19:48:24.239697Z",
          "shell.execute_reply": "2024-12-08T19:48:24.251123Z"
        },
        "trusted": true,
        "id": "VIOTizYoS19C"
      },
      "outputs": [],
      "execution_count": 9
    },
    {
      "cell_type": "code",
      "source": [
        "tag_to_ix = {}\n",
        "\n",
        "for tag in tags:\n",
        "  tag_to_ix[tag] = len(tag_to_ix)\n",
        "\n",
        "print(tag_to_ix)"
      ],
      "metadata": {
        "execution": {
          "iopub.status.busy": "2024-12-08T19:48:24.794628Z",
          "iopub.execute_input": "2024-12-08T19:48:24.796100Z",
          "iopub.status.idle": "2024-12-08T19:48:24.802617Z",
          "shell.execute_reply.started": "2024-12-08T19:48:24.796039Z",
          "shell.execute_reply": "2024-12-08T19:48:24.801322Z"
        },
        "trusted": true,
        "colab": {
          "base_uri": "https://localhost:8080/"
        },
        "id": "PKSYxyeAS19D",
        "outputId": "b436ecce-57a3-4028-f782-588b0353af89"
      },
      "outputs": [
        {
          "output_type": "stream",
          "name": "stdout",
          "text": [
            "{'O': 0, 'COULEUR': 1, 'POSITION': 2, 'DEVELOPPEMENT': 3, 'SURFACE': 4, 'FORME': 5, 'ORGANE': 6, 'DESCRIPTEUR': 7, 'STRUCTURE': 8, 'DISPOSITION': 9, 'MESURE': 10}\n"
          ]
        }
      ],
      "execution_count": 10
    },
    {
      "cell_type": "code",
      "source": [
        "def prepare_sequence(seq, to_ix):\n",
        "    idxs = [to_ix[w] for w in seq]\n",
        "    return torch.tensor(idxs, dtype=torch.long, device = 'cuda')\n",
        "from sklearn.model_selection import train_test_split"
      ],
      "metadata": {
        "execution": {
          "iopub.status.busy": "2024-12-08T19:48:25.370514Z",
          "iopub.execute_input": "2024-12-08T19:48:25.371071Z",
          "iopub.status.idle": "2024-12-08T19:48:25.377434Z",
          "shell.execute_reply.started": "2024-12-08T19:48:25.371017Z",
          "shell.execute_reply": "2024-12-08T19:48:25.376150Z"
        },
        "trusted": true,
        "id": "ywSvwR7-S19D"
      },
      "outputs": [],
      "execution_count": 11
    },
    {
      "cell_type": "code",
      "source": [
        "from sklearn.model_selection import train_test_split\n",
        "\n",
        "SPLIT_SIZE = 0.2\n",
        "\n",
        "# split entire data into training and testing sets\n",
        "X_train, X_test, Y_train, Y_test = train_test_split(X, Y, test_size=SPLIT_SIZE, random_state=4)\n",
        "\n",
        "# split training data into training and validation sets\n",
        "X_train, X_val, Y_train, Y_val = train_test_split(X_train, Y_train, test_size=SPLIT_SIZE, random_state=4)"
      ],
      "metadata": {
        "execution": {
          "iopub.status.busy": "2024-12-08T19:48:25.941887Z",
          "iopub.execute_input": "2024-12-08T19:48:25.942374Z",
          "iopub.status.idle": "2024-12-08T19:48:25.955437Z",
          "shell.execute_reply.started": "2024-12-08T19:48:25.942332Z",
          "shell.execute_reply": "2024-12-08T19:48:25.954178Z"
        },
        "trusted": true,
        "id": "7LPFpnNfS19D"
      },
      "outputs": [],
      "execution_count": 12
    },
    {
      "cell_type": "code",
      "source": [
        "from collections import Counter\n",
        "\n",
        "# Initialize a Counter to store the count of each tag\n",
        "tag_counts = Counter()\n",
        "\n",
        "# Iterate over tagged sentences\n",
        "for sentence in tagged_sentences:\n",
        "    for _, tag in sentence:  # Extract each tag\n",
        "        tag_counts[tag] += 1\n",
        "\n",
        "# Print the counts of each tag\n",
        "for tag, count in tag_counts.items():\n",
        "    print(f\"{tag}: {count}\")"
      ],
      "metadata": {
        "execution": {
          "iopub.status.busy": "2024-12-08T19:48:26.509380Z",
          "iopub.execute_input": "2024-12-08T19:48:26.509920Z",
          "iopub.status.idle": "2024-12-08T19:48:26.599587Z",
          "shell.execute_reply.started": "2024-12-08T19:48:26.509846Z",
          "shell.execute_reply": "2024-12-08T19:48:26.598104Z"
        },
        "trusted": true,
        "colab": {
          "base_uri": "https://localhost:8080/"
        },
        "id": "BHmxK5-JS19D",
        "outputId": "1d8bf223-67bf-4876-ccfe-4733e9783969"
      },
      "outputs": [
        {
          "output_type": "stream",
          "name": "stdout",
          "text": [
            "O: 99840\n",
            "ORGANE: 37027\n",
            "DISPOSITION: 1076\n",
            "DESCRIPTEUR: 13257\n",
            "FORME: 6084\n",
            "MESURE: 3738\n",
            "SURFACE: 3862\n",
            "POSITION: 1396\n",
            "COULEUR: 1519\n",
            "STRUCTURE: 1272\n",
            "DEVELOPPEMENT: 47\n"
          ]
        }
      ],
      "execution_count": 13
    },
    {
      "cell_type": "code",
      "source": [
        "import torch\n",
        "print(\"GPU available:\", torch.cuda.is_available())\n",
        "print(\"Device name:\", torch.cuda.get_device_name(0) if torch.cuda.is_available() else \"None\")\n",
        "\n"
      ],
      "metadata": {
        "trusted": true,
        "execution": {
          "iopub.status.busy": "2024-12-08T19:49:47.781518Z",
          "iopub.execute_input": "2024-12-08T19:49:47.781887Z",
          "iopub.status.idle": "2024-12-08T19:49:50.668865Z",
          "shell.execute_reply.started": "2024-12-08T19:49:47.781851Z",
          "shell.execute_reply": "2024-12-08T19:49:50.667618Z"
        },
        "colab": {
          "base_uri": "https://localhost:8080/"
        },
        "id": "mf76M5x0S19D",
        "outputId": "e7c522f7-a284-47d2-89db-7e1e6309475c"
      },
      "outputs": [
        {
          "output_type": "stream",
          "name": "stdout",
          "text": [
            "GPU available: True\n",
            "Device name: Tesla T4\n"
          ]
        }
      ],
      "execution_count": 14
    },
    {
      "cell_type": "code",
      "source": [
        "import torch\n",
        "import torch.nn as nn\n",
        "import torch.optim as optim\n",
        "from torch.nn.utils.rnn import pad_sequence\n",
        "from sklearn.metrics import classification_report\n",
        "import matplotlib.pyplot as plt\n",
        "\n",
        "# Device\n",
        "device = torch.device(\"cuda\" if torch.cuda.is_available() else \"cpu\")\n",
        "\n",
        "# Prepare sequences\n",
        "def prepare_sequences(sequences, word_to_ix, tag_to_ix):\n",
        "    prepared_sequences = []\n",
        "    prepared_tags = []\n",
        "\n",
        "    for seq, tags in zip(sequences[0], sequences[1]):\n",
        "        prepared_sequences.append(prepare_sequence(seq, word_to_ix))\n",
        "        prepared_tags.append(prepare_sequence(tags, tag_to_ix))\n",
        "\n",
        "    return prepared_sequences, prepared_tags\n",
        "\n",
        "X_train, Y_train = prepare_sequences((X_train, Y_train), word_to_ix, tag_to_ix)\n",
        "X_val, Y_val = prepare_sequences((X_val, Y_val), word_to_ix, tag_to_ix)\n",
        "X_test, Y_test = prepare_sequences((X_test, Y_test), word_to_ix, tag_to_ix)\n",
        "\n",
        "# Pad sequences\n",
        "def pad_data(sequences, tags):\n",
        "    seq_padded = pad_sequence(sequences, batch_first=True, padding_value=0)\n",
        "    tags_padded = pad_sequence(tags, batch_first=True, padding_value=tag_to_ix[\"O\"])\n",
        "    return seq_padded, tags_padded\n",
        "\n",
        "X_train, Y_train = pad_data(X_train, Y_train)\n",
        "X_val, Y_val = pad_data(X_val, Y_val)\n",
        "X_test, Y_test = pad_data(X_test, Y_test)"
      ],
      "metadata": {
        "trusted": true,
        "execution": {
          "iopub.status.busy": "2024-12-08T19:48:31.706381Z",
          "iopub.execute_input": "2024-12-08T19:48:31.706847Z",
          "iopub.status.idle": "2024-12-08T19:48:31.800768Z",
          "shell.execute_reply.started": "2024-12-08T19:48:31.706806Z",
          "shell.execute_reply": "2024-12-08T19:48:31.798701Z"
        },
        "id": "CHC0bDVyS19D"
      },
      "outputs": [],
      "execution_count": 15
    },
    {
      "cell_type": "code",
      "source": [
        "import torch\n",
        "import torch.nn as nn\n",
        "\n",
        "class VanillaLSTM(nn.Module):\n",
        "    def __init__(self, input_size, hidden_size, output_size):\n",
        "        super(VanillaLSTM, self).__init__()\n",
        "        self.hidden_size = hidden_size\n",
        "\n",
        "        # Forget gate weights\n",
        "        self.Wxf = nn.Linear(input_size, hidden_size)\n",
        "        self.Whf = nn.Linear(hidden_size, hidden_size)\n",
        "\n",
        "        # Input gate weights\n",
        "        self.Wxi = nn.Linear(input_size, hidden_size)\n",
        "        self.Whi = nn.Linear(hidden_size, hidden_size)\n",
        "\n",
        "        # Candidate cell state weights\n",
        "        self.Wxc = nn.Linear(input_size, hidden_size)\n",
        "        self.Whc = nn.Linear(hidden_size, hidden_size)\n",
        "\n",
        "        # Output gate weights\n",
        "        self.Wxo = nn.Linear(input_size, hidden_size)\n",
        "        self.Who = nn.Linear(hidden_size, hidden_size)\n",
        "\n",
        "        # Fully connected layer for output\n",
        "        self.fc = nn.Linear(hidden_size, output_size)\n",
        "\n",
        "    def forward(self, x):\n",
        "        batch_size, seq_len, input_size = x.size()\n",
        "\n",
        "        # Initialize hidden state (h_t) and cell state (c_t)\n",
        "        h_t = torch.zeros(batch_size, self.hidden_size).to(x.device)\n",
        "        c_t = torch.zeros(batch_size, self.hidden_size).to(x.device)\n",
        "\n",
        "        outputs = []\n",
        "        for t in range(seq_len):\n",
        "            x_t = x[:, t, :]  # Input at time step t\n",
        "\n",
        "            # Forget gate\n",
        "            f_t = torch.sigmoid(self.Wxf(x_t) + self.Whf(h_t))\n",
        "\n",
        "            # Input gate\n",
        "            i_t = torch.sigmoid(self.Wxi(x_t) + self.Whi(h_t))\n",
        "\n",
        "            # Candidate cell state\n",
        "            c_hat_t = torch.tanh(self.Wxc(x_t) + self.Whc(h_t))\n",
        "\n",
        "            # Update cell state\n",
        "            c_t = f_t * c_t + i_t * c_hat_t\n",
        "\n",
        "            # Output gate\n",
        "            o_t = torch.sigmoid(self.Wxo(x_t) + self.Who(h_t))\n",
        "\n",
        "            # Update hidden state\n",
        "            h_t = o_t * torch.tanh(c_t)\n",
        "\n",
        "            outputs.append(h_t.unsqueeze(1))  # Save the hidden state for each time step\n",
        "\n",
        "        lstm_out = torch.cat(outputs, dim=1)  # Combine outputs for all time steps\n",
        "        logits = self.fc(lstm_out)  # Compute predictions\n",
        "        return logits\n",
        "\n"
      ],
      "metadata": {
        "trusted": true,
        "execution": {
          "iopub.status.busy": "2024-12-08T19:48:07.222209Z",
          "iopub.status.idle": "2024-12-08T19:48:07.222796Z",
          "shell.execute_reply.started": "2024-12-08T19:48:07.222575Z",
          "shell.execute_reply": "2024-12-08T19:48:07.222601Z"
        },
        "id": "kSVSJrBdS19E"
      },
      "outputs": [],
      "execution_count": 16
    },
    {
      "cell_type": "code",
      "source": [
        "\n",
        "class StackedVanillaLSTM(nn.Module):\n",
        "    def __init__(self, input_size, hidden_size, output_size, num_layers):\n",
        "        super(StackedVanillaLSTM, self).__init__()\n",
        "        self.num_layers = num_layers\n",
        "        self.hidden_size = hidden_size\n",
        "\n",
        "        # Create LSTM layers\n",
        "        self.lstm_layers = nn.ModuleList([\n",
        "            VanillaLSTM(\n",
        "                input_size if i == 0 else hidden_size,\n",
        "                hidden_size,\n",
        "                hidden_size\n",
        "            ) for i in range(num_layers)\n",
        "        ])\n",
        "\n",
        "        # Fully connected output layer\n",
        "        self.fc = nn.Linear(hidden_size, output_size)\n",
        "\n",
        "    def forward(self, x):\n",
        "        # Process through each LSTM layer\n",
        "        current_input = x\n",
        "\n",
        "        for layer in self.lstm_layers:\n",
        "            current_input = layer(current_input)\n",
        "\n",
        "        # Apply final linear layer to each time step\n",
        "        output = self.fc(current_input)\n",
        "        return output\n"
      ],
      "metadata": {
        "trusted": true,
        "execution": {
          "iopub.status.busy": "2024-12-08T19:48:07.224095Z",
          "iopub.status.idle": "2024-12-08T19:48:07.224510Z",
          "shell.execute_reply.started": "2024-12-08T19:48:07.224336Z",
          "shell.execute_reply": "2024-12-08T19:48:07.224356Z"
        },
        "id": "vagD3DAtS19E"
      },
      "outputs": [],
      "execution_count": 48
    },
    {
      "cell_type": "code",
      "source": [
        "class LSTMTaggerWithVanillaLSTM(nn.Module):\n",
        "    def __init__(self, vocab_size, tagset_size, embedding_dim, hidden_dim):\n",
        "        super(LSTMTaggerWithVanillaLSTM, self).__init__()\n",
        "        self.embedding = nn.Embedding(vocab_size, embedding_dim)\n",
        "        self.lstm = VanillaLSTM(embedding_dim, hidden_dim, hidden_dim)\n",
        "        self.fc = nn.Linear(hidden_dim, tagset_size)\n",
        "\n",
        "    def forward(self, x):\n",
        "        embeds = self.embedding(x)  # Shape: (batch_size, seq_len, embedding_dim)\n",
        "        lstm_out = self.lstm(embeds)  # Shape: (batch_size, seq_len, hidden_dim)\n",
        "        logits = self.fc(lstm_out)  # Shape: (batch_size, seq_len, tagset_size)\n",
        "        return logits\n",
        "\n",
        "\n",
        "\n",
        "\n"
      ],
      "metadata": {
        "execution": {
          "iopub.status.busy": "2024-12-08T19:48:07.226281Z",
          "iopub.status.idle": "2024-12-08T19:48:07.226738Z",
          "shell.execute_reply.started": "2024-12-08T19:48:07.226496Z",
          "shell.execute_reply": "2024-12-08T19:48:07.226523Z"
        },
        "trusted": true,
        "id": "xshqqkqoS19E"
      },
      "outputs": [],
      "execution_count": 50
    },
    {
      "cell_type": "code",
      "source": [
        "class LSTMTaggerWithStackedVanillaLSTM(nn.Module):\n",
        "    def __init__(self, vocab_size, tagset_size, embedding_dim, hidden_dim, num_layers):\n",
        "        super(LSTMTaggerWithStackedVanillaLSTM, self).__init__()\n",
        "        self.embedding = nn.Embedding(vocab_size, embedding_dim)\n",
        "        self.lstm = StackedVanillaLSTM(embedding_dim, hidden_dim, hidden_dim, num_layers)\n",
        "        self.fc = nn.Linear(hidden_dim, tagset_size)\n",
        "\n",
        "    def forward(self, x):\n",
        "        embeds = self.embedding(x)  # Shape: (batch_size, seq_len, embedding_dim)\n",
        "        lstm_out = self.lstm(embeds)  # Shape: (batch_size, seq_len, hidden_dim)\n",
        "        logits = self.fc(lstm_out)  # Shape: (batch_size, seq_len, tagset_size)\n",
        "        return logits\n"
      ],
      "metadata": {
        "trusted": true,
        "execution": {
          "iopub.status.busy": "2024-12-08T19:48:07.228598Z",
          "iopub.status.idle": "2024-12-08T19:48:07.229024Z",
          "shell.execute_reply.started": "2024-12-08T19:48:07.228802Z",
          "shell.execute_reply": "2024-12-08T19:48:07.228821Z"
        },
        "id": "0tJ-CGFpS19E"
      },
      "outputs": [],
      "execution_count": 51
    },
    {
      "cell_type": "code",
      "source": [
        "\n",
        "EMBEDDING_DIM = 300\n",
        "HIDDEN_DIM = 100\n",
        "NUM_LAYERS = 3  # For stacked LSTM\n",
        "VOCAB_SIZE = len(word_to_ix)\n",
        "TAGSET_SIZE = len(tag_to_ix)"
      ],
      "metadata": {
        "execution": {
          "iopub.status.busy": "2024-12-08T19:48:07.230009Z",
          "iopub.status.idle": "2024-12-08T19:48:07.230388Z",
          "shell.execute_reply.started": "2024-12-08T19:48:07.230212Z",
          "shell.execute_reply": "2024-12-08T19:48:07.230232Z"
        },
        "trusted": true,
        "id": "70-br2oFS19E"
      },
      "outputs": [],
      "execution_count": 52
    },
    {
      "cell_type": "code",
      "source": [
        "single_lstm = LSTMTaggerWithVanillaLSTM(VOCAB_SIZE, TAGSET_SIZE, EMBEDDING_DIM, HIDDEN_DIM).to(device)\n",
        "\n",
        "stacked_lstm = LSTMTaggerWithStackedVanillaLSTM(VOCAB_SIZE, TAGSET_SIZE, EMBEDDING_DIM, HIDDEN_DIM, NUM_LAYERS).to(device)\n"
      ],
      "metadata": {
        "execution": {
          "iopub.status.busy": "2024-12-08T19:48:07.232892Z",
          "iopub.status.idle": "2024-12-08T19:48:07.233292Z",
          "shell.execute_reply.started": "2024-12-08T19:48:07.233113Z",
          "shell.execute_reply": "2024-12-08T19:48:07.233133Z"
        },
        "trusted": true,
        "id": "zwV2T0IwS19F"
      },
      "outputs": [],
      "execution_count": 53
    },
    {
      "cell_type": "code",
      "source": [
        "\n",
        "criterion = nn.CrossEntropyLoss()\n",
        "optimizer_single = optim.Adam(single_lstm.parameters(), lr=0.01)\n",
        "optimizer_stacked = optim.Adam(stacked_lstm.parameters(), lr=0.01)"
      ],
      "metadata": {
        "execution": {
          "iopub.status.busy": "2024-12-08T19:48:07.234898Z",
          "iopub.status.idle": "2024-12-08T19:48:07.235270Z",
          "shell.execute_reply.started": "2024-12-08T19:48:07.235095Z",
          "shell.execute_reply": "2024-12-08T19:48:07.235115Z"
        },
        "trusted": true,
        "id": "R_zspZ9fS19F"
      },
      "outputs": [],
      "execution_count": 54
    },
    {
      "cell_type": "code",
      "source": [
        "def train_model(model, optimizer, X_train, Y_train, X_val, Y_val, num_epochs=60):\n",
        "    train_loss, val_loss = [], []\n",
        "    for epoch in range(num_epochs):\n",
        "        model.train()\n",
        "        optimizer.zero_grad()\n",
        "\n",
        "        outputs = model(X_train.to(device))\n",
        "        outputs = outputs.view(-1, TAGSET_SIZE)\n",
        "        loss = criterion(outputs, Y_train.view(-1).to(device))\n",
        "        loss.backward()\n",
        "        optimizer.step()\n",
        "        train_loss.append(loss.item())\n",
        "\n",
        "        # Validation\n",
        "        model.eval()\n",
        "        with torch.no_grad():\n",
        "            val_outputs = model(X_val.to(device))\n",
        "            val_outputs = val_outputs.view(-1, TAGSET_SIZE)\n",
        "            val_loss_epoch = criterion(val_outputs, Y_val.view(-1).to(device)).item()\n",
        "            val_loss.append(val_loss_epoch)\n",
        "\n",
        "        print(f\"Epoch {epoch+1}/{num_epochs}, Train Loss: {loss.item()}, Val Loss: {val_loss_epoch}\")\n",
        "\n",
        "    return train_loss, val_loss"
      ],
      "metadata": {
        "execution": {
          "iopub.status.busy": "2024-12-08T19:48:07.237164Z",
          "iopub.status.idle": "2024-12-08T19:48:07.237553Z",
          "shell.execute_reply.started": "2024-12-08T19:48:07.237373Z",
          "shell.execute_reply": "2024-12-08T19:48:07.237393Z"
        },
        "trusted": true,
        "id": "WyhL3NkQS19F"
      },
      "outputs": [],
      "execution_count": 55
    },
    {
      "cell_type": "code",
      "source": [
        "train_loss_single, val_loss_single = train_model(single_lstm, optimizer_single, X_train, Y_train, X_val, Y_val)"
      ],
      "metadata": {
        "execution": {
          "iopub.status.busy": "2024-12-08T19:48:07.239034Z",
          "iopub.status.idle": "2024-12-08T19:48:07.239415Z",
          "shell.execute_reply.started": "2024-12-08T19:48:07.239241Z",
          "shell.execute_reply": "2024-12-08T19:48:07.239260Z"
        },
        "trusted": true,
        "colab": {
          "base_uri": "https://localhost:8080/"
        },
        "id": "-Wbh3dexS19F",
        "outputId": "bb12ca62-de14-48d8-dfc0-9a168c60b027"
      },
      "outputs": [
        {
          "output_type": "stream",
          "name": "stdout",
          "text": [
            "Epoch 1/60, Train Loss: 2.42018723487854, Val Loss: 0.9195478558540344\n",
            "Epoch 2/60, Train Loss: 0.6922981142997742, Val Loss: 0.6306703090667725\n",
            "Epoch 3/60, Train Loss: 0.40993380546569824, Val Loss: 0.7069105505943298\n",
            "Epoch 4/60, Train Loss: 0.4647811949253082, Val Loss: 0.5441932082176208\n",
            "Epoch 5/60, Train Loss: 0.35229215025901794, Val Loss: 0.4949627220630646\n",
            "Epoch 6/60, Train Loss: 0.3182086646556854, Val Loss: 0.48534029722213745\n",
            "Epoch 7/60, Train Loss: 0.3117403984069824, Val Loss: 0.47023922204971313\n",
            "Epoch 8/60, Train Loss: 0.30194446444511414, Val Loss: 0.4506136476993561\n",
            "Epoch 9/60, Train Loss: 0.28894004225730896, Val Loss: 0.43423935770988464\n",
            "Epoch 10/60, Train Loss: 0.2777913510799408, Val Loss: 0.4229329228401184\n",
            "Epoch 11/60, Train Loss: 0.2697327733039856, Val Loss: 0.415963351726532\n",
            "Epoch 12/60, Train Loss: 0.2644532322883606, Val Loss: 0.4091929495334625\n",
            "Epoch 13/60, Train Loss: 0.25896602869033813, Val Loss: 0.39948827028274536\n",
            "Epoch 14/60, Train Loss: 0.250870019197464, Val Loss: 0.3911803960800171\n",
            "Epoch 15/60, Train Loss: 0.24370910227298737, Val Loss: 0.3867724537849426\n",
            "Epoch 16/60, Train Loss: 0.23929168283939362, Val Loss: 0.38447144627571106\n",
            "Epoch 17/60, Train Loss: 0.23646676540374756, Val Loss: 0.38201719522476196\n",
            "Epoch 18/60, Train Loss: 0.23346562683582306, Val Loss: 0.3784358501434326\n",
            "Epoch 19/60, Train Loss: 0.22981959581375122, Val Loss: 0.3738224506378174\n",
            "Epoch 20/60, Train Loss: 0.22558538615703583, Val Loss: 0.36871302127838135\n",
            "Epoch 21/60, Train Loss: 0.22112976014614105, Val Loss: 0.3639361262321472\n",
            "Epoch 22/60, Train Loss: 0.2170218825340271, Val Loss: 0.3603786528110504\n",
            "Epoch 23/60, Train Loss: 0.2138373702764511, Val Loss: 0.3581760823726654\n",
            "Epoch 24/60, Train Loss: 0.21161489188671112, Val Loss: 0.35605388879776\n",
            "Epoch 25/60, Train Loss: 0.20943666994571686, Val Loss: 0.3526282012462616\n",
            "Epoch 26/60, Train Loss: 0.2063506543636322, Val Loss: 0.34816431999206543\n",
            "Epoch 27/60, Train Loss: 0.202544704079628, Val Loss: 0.34363389015197754\n",
            "Epoch 28/60, Train Loss: 0.1986873298883438, Val Loss: 0.3394372761249542\n",
            "Epoch 29/60, Train Loss: 0.1950463056564331, Val Loss: 0.3359968066215515\n",
            "Epoch 30/60, Train Loss: 0.19187599420547485, Val Loss: 0.3334839344024658\n",
            "Epoch 31/60, Train Loss: 0.18938729166984558, Val Loss: 0.3302803337574005\n",
            "Epoch 32/60, Train Loss: 0.1865452378988266, Val Loss: 0.3264863193035126\n",
            "Epoch 33/60, Train Loss: 0.18337447941303253, Val Loss: 0.32283395528793335\n",
            "Epoch 34/60, Train Loss: 0.1803019493818283, Val Loss: 0.3196141719818115\n",
            "Epoch 35/60, Train Loss: 0.1774650365114212, Val Loss: 0.3166221082210541\n",
            "Epoch 36/60, Train Loss: 0.17462857067584991, Val Loss: 0.3136962354183197\n",
            "Epoch 37/60, Train Loss: 0.1717526912689209, Val Loss: 0.31075966358184814\n",
            "Epoch 38/60, Train Loss: 0.1689210832118988, Val Loss: 0.30797290802001953\n",
            "Epoch 39/60, Train Loss: 0.16630816459655762, Val Loss: 0.30506953597068787\n",
            "Epoch 40/60, Train Loss: 0.16373421251773834, Val Loss: 0.3018384873867035\n",
            "Epoch 41/60, Train Loss: 0.16096535325050354, Val Loss: 0.29868626594543457\n",
            "Epoch 42/60, Train Loss: 0.1581886261701584, Val Loss: 0.2957057058811188\n",
            "Epoch 43/60, Train Loss: 0.15535037219524384, Val Loss: 0.293100506067276\n",
            "Epoch 44/60, Train Loss: 0.15258090198040009, Val Loss: 0.290802001953125\n",
            "Epoch 45/60, Train Loss: 0.1499757319688797, Val Loss: 0.2883273959159851\n",
            "Epoch 46/60, Train Loss: 0.14728157222270966, Val Loss: 0.2859230041503906\n",
            "Epoch 47/60, Train Loss: 0.14467687904834747, Val Loss: 0.28360503911972046\n",
            "Epoch 48/60, Train Loss: 0.14213021099567413, Val Loss: 0.281121164560318\n",
            "Epoch 49/60, Train Loss: 0.13941144943237305, Val Loss: 0.27894914150238037\n",
            "Epoch 50/60, Train Loss: 0.1368577778339386, Val Loss: 0.27688270807266235\n",
            "Epoch 51/60, Train Loss: 0.13435401022434235, Val Loss: 0.27473434805870056\n",
            "Epoch 52/60, Train Loss: 0.1317509263753891, Val Loss: 0.2728079855442047\n",
            "Epoch 53/60, Train Loss: 0.1291705071926117, Val Loss: 0.27113011479377747\n",
            "Epoch 54/60, Train Loss: 0.12663723528385162, Val Loss: 0.26955318450927734\n",
            "Epoch 55/60, Train Loss: 0.12415532767772675, Val Loss: 0.26785025000572205\n",
            "Epoch 56/60, Train Loss: 0.12160270661115646, Val Loss: 0.2663258910179138\n",
            "Epoch 57/60, Train Loss: 0.11917487531900406, Val Loss: 0.26474934816360474\n",
            "Epoch 58/60, Train Loss: 0.11673268675804138, Val Loss: 0.2632288336753845\n",
            "Epoch 59/60, Train Loss: 0.1143108531832695, Val Loss: 0.26190680265426636\n",
            "Epoch 60/60, Train Loss: 0.11192819476127625, Val Loss: 0.26070308685302734\n"
          ]
        }
      ],
      "execution_count": 24
    },
    {
      "cell_type": "code",
      "source": [
        "train_loss_stacked, val_loss_stacked = train_model(stacked_lstm, optimizer_stacked, X_train, Y_train, X_val, Y_val)"
      ],
      "metadata": {
        "execution": {
          "iopub.status.busy": "2024-12-08T19:48:07.240465Z",
          "iopub.status.idle": "2024-12-08T19:48:07.240821Z",
          "shell.execute_reply.started": "2024-12-08T19:48:07.240650Z",
          "shell.execute_reply": "2024-12-08T19:48:07.240668Z"
        },
        "trusted": true,
        "colab": {
          "base_uri": "https://localhost:8080/"
        },
        "id": "PNshAAy-S19F",
        "outputId": "87337c69-df72-4bbf-f7c9-09c445099044"
      },
      "outputs": [
        {
          "output_type": "stream",
          "name": "stdout",
          "text": [
            "Epoch 1/60, Train Loss: 2.5119333267211914, Val Loss: 1.7927651405334473\n",
            "Epoch 2/60, Train Loss: 1.7435189485549927, Val Loss: 0.9582571387290955\n"
          ]
        }
      ],
      "execution_count": null
    },
    {
      "cell_type": "code",
      "source": [
        "def plot_loss(train_loss, val_loss, title):\n",
        "    plt.figure(figsize=(10, 6))\n",
        "    plt.plot(train_loss, label=\"Train Loss\")\n",
        "    plt.plot(val_loss, label=\"Validation Loss\")\n",
        "    plt.title(title)\n",
        "    plt.xlabel(\"Epochs\")\n",
        "    plt.ylabel(\"Loss\")\n",
        "    plt.legend()\n",
        "    plt.show()\n",
        "\n",
        "plot_loss(train_loss_single, val_loss_single, \"Single-layer LSTM Loss\")\n",
        "plot_loss(train_loss_stacked, val_loss_stacked, \"Stacked LSTM Loss\")"
      ],
      "metadata": {
        "execution": {
          "iopub.status.busy": "2024-12-08T19:48:07.242315Z",
          "iopub.status.idle": "2024-12-08T19:48:07.242674Z",
          "shell.execute_reply.started": "2024-12-08T19:48:07.242500Z",
          "shell.execute_reply": "2024-12-08T19:48:07.242520Z"
        },
        "trusted": true,
        "colab": {
          "base_uri": "https://localhost:8080/",
          "height": 564
        },
        "id": "Fe-6G8DbS19F",
        "outputId": "aa033c02-4822-4f74-b677-202f08c6f92e"
      },
      "outputs": [
        {
          "output_type": "display_data",
          "data": {
            "text/plain": [
              "<Figure size 1000x600 with 1 Axes>"
            ],
            "image/png": "[encoded data removed]"
          },
          "metadata": {}
        }
      ],
      "execution_count": 25
    },
    {
      "cell_type": "code",
      "source": [
        "def evaluate_model_with_predictions(model, X_test, Y_test, idx_to_tag):\n",
        "    model.eval()\n",
        "    with torch.no_grad():\n",
        "        # Get predictions\n",
        "        outputs = model(X_test.to(device))\n",
        "        predictions = torch.argmax(outputs, dim=-1).cpu().numpy()\n",
        "        labels = Y_test.cpu().numpy()\n",
        "\n",
        "        # Convert indices to tags\n",
        "        predicted_tags = [\n",
        "            [idx_to_tag[pred] for pred in sentence[:len(actual)]]\n",
        "            for sentence, actual in zip(predictions, labels)\n",
        "        ]\n",
        "        actual_tags = [\n",
        "            [idx_to_tag[label] for label in sentence[:len(actual)]]\n",
        "            for sentence, actual in zip(labels, labels)\n",
        "        ]\n",
        "\n",
        "        # Display a few examples\n",
        "        for i in range(min(2, len(predicted_tags))):  # Show 5 examples\n",
        "            print(f\"Sentence {i + 1}:\")\n",
        "            print(f\"  Predicted: {predicted_tags[i]}\")\n",
        "            print(f\"  Actual:    {actual_tags[i]}\")\n",
        "            print(\"-\" * 50)\n",
        "\n",
        "    # Compute and print classification report\n",
        "    print(\"Classification Report:\")\n",
        "    print(\n",
        "        classification_report(\n",
        "            [tag for sent in labels for tag in sent],\n",
        "            [tag for sent in predictions for tag in sent],\n",
        "            target_names=list(idx_to_tag.values()),\n",
        "        )\n",
        "    )\n",
        "\n",
        "# Create a mapping from indices to tags\n",
        "idx_to_tag = {v: k for k, v in tag_to_ix.items()}\n",
        "\n",
        "# Evaluate single-layer LSTM\n",
        "print(\"Single-layer LSTM Evaluation with Predictions\")\n",
        "evaluate_model_with_predictions(single_lstm, X_test, Y_test, idx_to_tag)\n",
        "\n",
        "# Evaluate stacked LSTM\n",
        "print(\"\\nStacked LSTM Evaluation with Predictions\")\n",
        "evaluate_model_with_predictions(stacked_lstm, X_test, Y_test, idx_to_tag)"
      ],
      "metadata": {
        "execution": {
          "iopub.status.busy": "2024-12-08T19:48:07.244123Z",
          "iopub.status.idle": "2024-12-08T19:48:07.244493Z",
          "shell.execute_reply.started": "2024-12-08T19:48:07.244319Z",
          "shell.execute_reply": "2024-12-08T19:48:07.244338Z"
        },
        "trusted": true,
        "colab": {
          "base_uri": "https://localhost:8080/"
        },
        "id": "bM8iWmZkS19F",
        "outputId": "eae95a9d-f7e5-479e-e1a5-bc87da944374"
      },
      "outputs": [
        {
          "output_type": "stream",
          "name": "stdout",
          "text": [
            "Single-layer LSTM Evaluation with Predictions\n",
            "Sentence 1:\n",
            "  Predicted: ['ORGANE', 'SURFACE', 'O', 'O', 'O', 'ORGANE', 'ORGANE', 'ORGANE', 'ORGANE', 'ORGANE', 'O', 'O', 'ORGANE', 'ORGANE', 'ORGANE', 'O', 'O', 'O', 'O', 'O', 'ORGANE', 'ORGANE', 'ORGANE', 'ORGANE', 'O', 'O', 'O', 'DESCRIPTEUR', 'O', 'O', 'ORGANE', 'ORGANE', 'ORGANE', 'DISPOSITION', 'ORGANE', 'ORGANE', 'FORME', 'FORME', 'O', 'O', 'O', 'DESCRIPTEUR', 'O', 'ORGANE', 'ORGANE', 'O', 'O', 'SURFACE', 'O', 'ORGANE', 'ORGANE', 'FORME', 'O', 'O', 'O', 'O', 'O', 'O', 'O', 'O', 'O', 'ORGANE', 'O', 'O', 'O', 'DESCRIPTEUR', 'DESCRIPTEUR', 'ORGANE', 'ORGANE', 'ORGANE', 'O', 'DESCRIPTEUR', 'O', 'O', 'O', 'O', 'O', 'O', 'O', 'ORGANE', 'ORGANE', 'ORGANE', 'O', 'ORGANE', 'ORGANE', 'O', 'ORGANE', 'ORGANE', 'FORME', 'O', 'O', 'O', 'O', 'ORGANE', 'DESCRIPTEUR', 'DESCRIPTEUR', 'O', 'O', 'O', 'O', 'O', 'O', 'O', 'O', 'FORME', 'O', 'O', 'O', 'O', 'ORGANE', 'ORGANE', 'ORGANE', 'ORGANE', 'O', 'O', 'ORGANE', 'ORGANE', 'ORGANE', 'O', 'O', 'O', 'ORGANE', 'ORGANE', 'ORGANE', 'O', 'ORGANE', 'ORGANE', 'FORME', 'O', 'O', 'O', 'O', 'O', 'O', 'O', 'SURFACE', 'ORGANE', 'ORGANE', 'DESCRIPTEUR', 'O', 'O', 'O', 'O', 'O', 'ORGANE', 'ORGANE', 'O', 'O', 'O', 'O', 'O', 'O', 'O', 'ORGANE', 'O', 'O', 'MESURE', 'MESURE', 'MESURE', 'O', 'O', 'O', 'O', 'O', 'O', 'O', 'O', 'O', 'O', 'O', 'O', 'O', 'O', 'O', 'O', 'O', 'O', 'O', 'O', 'O', 'O', 'O', 'O', 'O', 'O', 'O', 'O', 'O', 'O', 'O', 'O', 'O', 'O', 'O', 'O', 'O', 'O', 'O', 'O', 'O', 'O', 'O', 'O', 'O', 'O', 'O', 'O', 'O', 'O', 'O', 'O', 'O', 'O', 'O', 'O', 'O', 'O', 'O', 'O', 'O', 'O', 'O', 'O', 'O', 'O', 'O', 'O', 'O', 'O', 'O', 'O', 'O', 'O', 'O', 'O', 'O', 'O', 'O', 'O', 'O', 'O', 'O', 'O', 'O', 'O', 'O', 'O', 'O', 'O', 'O', 'O', 'O', 'O', 'O', 'O', 'O', 'O', 'O', 'O', 'O', 'O', 'O', 'O', 'O', 'O', 'O', 'O', 'O', 'O', 'O', 'O', 'O', 'O', 'O', 'O', 'O', 'O', 'O', 'O', 'O', 'O', 'O', 'O', 'O', 'O', 'O', 'O', 'O', 'O', 'O', 'O', 'O', 'O', 'O', 'O', 'O', 'O', 'O', 'O', 'O', 'O', 'O', 'O', 'O', 'O', 'O', 'O', 'O', 'O', 'O', 'O', 'O', 'O', 'O', 'O', 'O', 'O', 'O', 'O', 'O', 'O', 'O', 'O', 'O', 'O', 'O', 'O', 'O', 'O', 'O', 'O', 'O', 'O', 'O', 'O', 'O', 'O', 'O', 'O', 'O', 'O', 'O', 'O', 'O', 'O', 'O', 'O', 'O', 'O', 'O', 'O', 'O', 'O', 'O', 'O', 'O', 'O', 'O', 'O', 'O', 'O', 'O', 'O', 'O', 'O', 'O', 'O', 'O', 'O', 'O', 'O', 'O', 'O', 'O', 'O', 'O', 'O', 'O', 'O', 'O', 'O', 'O', 'O', 'O', 'O', 'O', 'O', 'O', 'O', 'O', 'O', 'O', 'O', 'O', 'O', 'O', 'O', 'O', 'O', 'O', 'O', 'O', 'O', 'O', 'O', 'O', 'O', 'O', 'O', 'O', 'O', 'O', 'O', 'O', 'O', 'O', 'O', 'O', 'O', 'O', 'O', 'O', 'O', 'O', 'O', 'O', 'O', 'O', 'O', 'O', 'O', 'O', 'O', 'O', 'O', 'O', 'O', 'O', 'O', 'O', 'O', 'O', 'O', 'O', 'O', 'O', 'O', 'O', 'O', 'O', 'O', 'O', 'O', 'O', 'O', 'O', 'O', 'O', 'O', 'O', 'O', 'O', 'O', 'O', 'O', 'O', 'O', 'O', 'O', 'O', 'O', 'O', 'O', 'O', 'O', 'O', 'O', 'O', 'O', 'O', 'O', 'O', 'O', 'O', 'O', 'O', 'O', 'O', 'O', 'O', 'O', 'O', 'O', 'O', 'O', 'O', 'O', 'O', 'O', 'O', 'O', 'O', 'O', 'O', 'O', 'O', 'O', 'O', 'O', 'O', 'O', 'O', 'O', 'O', 'O', 'O', 'O', 'O', 'O', 'O', 'O', 'O', 'O', 'O', 'O', 'O', 'O', 'O', 'O', 'O', 'O', 'O', 'O', 'O', 'O', 'O', 'O', 'O', 'O', 'O', 'O', 'O', 'O', 'O', 'O', 'O', 'O', 'O', 'O', 'O', 'O', 'O', 'O', 'O', 'O', 'O', 'O', 'O', 'O', 'O', 'O', 'O', 'O', 'O', 'O', 'O', 'O', 'O', 'O', 'O', 'O', 'O', 'O', 'O', 'O', 'O', 'O', 'O', 'O', 'O', 'O', 'O', 'O', 'O', 'O', 'O', 'O', 'O', 'O', 'O', 'O', 'O', 'O', 'O', 'O', 'O', 'O', 'O', 'O', 'O', 'O', 'O', 'O', 'O', 'O', 'O', 'O', 'O', 'O', 'O', 'O', 'O', 'O', 'O', 'O', 'O', 'O', 'O', 'O', 'O', 'O', 'O', 'O', 'O', 'O', 'O', 'O', 'O', 'O', 'O', 'O', 'O', 'O', 'O', 'O', 'O', 'O', 'O', 'O', 'O', 'O', 'O', 'O', 'O', 'O', 'O', 'O', 'O', 'O', 'O', 'O', 'O', 'O', 'O', 'O', 'O', 'O', 'O', 'O', 'O', 'O', 'O', 'O', 'O', 'O', 'O', 'O', 'O', 'O', 'O', 'O', 'O', 'O', 'O', 'O', 'O', 'O', 'O', 'O', 'O', 'O', 'O', 'O', 'O', 'O', 'O', 'O', 'O', 'O', 'O', 'O', 'O', 'O', 'O', 'O', 'O', 'O', 'O', 'O', 'O', 'O', 'O', 'O', 'O', 'O', 'O', 'O', 'O', 'O', 'O', 'O', 'O', 'O', 'O', 'O', 'O', 'O', 'O', 'O', 'O', 'O', 'O', 'O', 'O', 'O', 'O', 'O', 'O', 'O', 'O', 'O', 'O', 'O', 'O', 'O', 'O', 'O', 'O', 'O', 'O', 'O', 'O', 'O', 'O', 'O', 'O', 'O', 'O', 'O', 'O', 'O', 'O', 'O', 'O', 'O', 'O', 'O', 'O', 'O', 'O', 'O', 'O', 'O', 'O', 'O', 'O', 'O', 'O', 'O', 'O', 'O', 'O', 'O', 'O', 'O', 'O', 'O', 'O', 'O', 'O', 'O', 'O', 'O', 'O', 'O', 'O', 'O', 'O', 'O', 'O', 'O', 'O', 'O', 'O', 'O', 'O', 'O', 'O', 'O', 'O', 'O', 'O', 'O', 'O', 'O', 'O', 'O', 'O', 'O', 'O', 'O', 'O', 'O', 'O', 'O', 'O', 'O', 'O', 'O', 'O', 'O', 'O', 'O', 'O', 'O', 'O', 'O', 'O', 'O', 'O', 'O', 'O', 'O', 'O', 'O', 'O', 'O', 'O', 'O', 'O', 'O', 'O', 'O', 'O', 'O', 'O', 'O', 'O', 'O', 'O', 'O', 'O', 'O', 'O', 'O', 'O', 'O', 'O', 'O', 'O', 'O', 'O', 'O', 'O', 'O', 'O', 'O', 'O', 'O', 'O', 'O', 'O', 'O', 'O', 'O', 'O', 'O', 'O', 'O', 'O', 'O', 'O', 'O', 'O', 'O', 'O', 'O', 'O', 'O', 'O', 'O', 'O', 'O', 'O', 'O', 'O', 'O', 'O', 'O', 'O', 'O', 'O', 'O', 'O', 'O', 'O', 'O', 'O', 'O', 'O', 'O', 'O', 'O', 'O', 'O', 'O', 'O']\n",
            "  Actual:    ['ORGANE', 'SURFACE', 'O', 'O', 'ORGANE', 'O', 'ORGANE', 'O', 'ORGANE', 'O', 'O', 'ORGANE', 'O', 'ORGANE', 'ORGANE', 'O', 'O', 'O', 'O', 'ORGANE', 'ORGANE', 'DISPOSITION', 'ORGANE', 'ORGANE', 'O', 'O', 'O', 'DESCRIPTEUR', 'O', 'O', 'ORGANE', 'ORGANE', 'ORGANE', 'DISPOSITION', 'ORGANE', 'ORGANE', 'FORME', 'FORME', 'O', 'O', 'O', 'DESCRIPTEUR', 'DESCRIPTEUR', 'O', 'O', 'O', 'O', 'SURFACE', 'SURFACE', 'ORGANE', 'ORGANE', 'FORME', 'FORME', 'O', 'O', 'O', 'O', 'O', 'O', 'O', 'O', 'ORGANE', 'ORGANE', 'DESCRIPTEUR', 'O', 'DESCRIPTEUR', 'DESCRIPTEUR', 'ORGANE', 'ORGANE', 'DESCRIPTEUR', 'DESCRIPTEUR', 'DESCRIPTEUR', 'DESCRIPTEUR', 'O', 'O', 'O', 'O', 'O', 'O', 'ORGANE', 'ORGANE', 'ORGANE', 'DESCRIPTEUR', 'ORGANE', 'ORGANE', 'ORGANE', 'ORGANE', 'ORGANE', 'DESCRIPTEUR', 'O', 'O', 'O', 'ORGANE', 'ORGANE', 'DESCRIPTEUR', 'DESCRIPTEUR', 'O', 'O', 'O', 'O', 'O', 'O', 'O', 'FORME', 'FORME', 'FORME', 'O', 'O', 'ORGANE', 'ORGANE', 'ORGANE', 'ORGANE', 'ORGANE', 'O', 'O', 'ORGANE', 'ORGANE', 'O', 'O', 'O', 'O', 'O', 'O', 'ORGANE', 'O', 'ORGANE', 'ORGANE', 'FORME', 'FORME', 'O', 'O', 'O', 'DESCRIPTEUR', 'DESCRIPTEUR', 'O', 'SURFACE', 'SURFACE', 'ORGANE', 'ORGANE', 'DESCRIPTEUR', 'DESCRIPTEUR', 'O', 'O', 'O', 'O', 'ORGANE', 'O', 'O', 'O', 'O', 'O', 'O', 'O', 'ORGANE', 'ORGANE', 'O', 'MESURE', 'MESURE', 'MESURE', 'MESURE', 'MESURE', 'O', 'O', 'O', 'O', 'O', 'O', 'O', 'O', 'O', 'O', 'O', 'O', 'O', 'O', 'O', 'O', 'O', 'O', 'O', 'O', 'O', 'O', 'O', 'O', 'O', 'O', 'O', 'O', 'O', 'O', 'O', 'O', 'O', 'O', 'O', 'O', 'O', 'O', 'O', 'O', 'O', 'O', 'O', 'O', 'O', 'O', 'O', 'O', 'O', 'O', 'O', 'O', 'O', 'O', 'O', 'O', 'O', 'O', 'O', 'O', 'O', 'O', 'O', 'O', 'O', 'O', 'O', 'O', 'O', 'O', 'O', 'O', 'O', 'O', 'O', 'O', 'O', 'O', 'O', 'O', 'O', 'O', 'O', 'O', 'O', 'O', 'O', 'O', 'O', 'O', 'O', 'O', 'O', 'O', 'O', 'O', 'O', 'O', 'O', 'O', 'O', 'O', 'O', 'O', 'O', 'O', 'O', 'O', 'O', 'O', 'O', 'O', 'O', 'O', 'O', 'O', 'O', 'O', 'O', 'O', 'O', 'O', 'O', 'O', 'O', 'O', 'O', 'O', 'O', 'O', 'O', 'O', 'O', 'O', 'O', 'O', 'O', 'O', 'O', 'O', 'O', 'O', 'O', 'O', 'O', 'O', 'O', 'O', 'O', 'O', 'O', 'O', 'O', 'O', 'O', 'O', 'O', 'O', 'O', 'O', 'O', 'O', 'O', 'O', 'O', 'O', 'O', 'O', 'O', 'O', 'O', 'O', 'O', 'O', 'O', 'O', 'O', 'O', 'O', 'O', 'O', 'O', 'O', 'O', 'O', 'O', 'O', 'O', 'O', 'O', 'O', 'O', 'O', 'O', 'O', 'O', 'O', 'O', 'O', 'O', 'O', 'O', 'O', 'O', 'O', 'O', 'O', 'O', 'O', 'O', 'O', 'O', 'O', 'O', 'O', 'O', 'O', 'O', 'O', 'O', 'O', 'O', 'O', 'O', 'O', 'O', 'O', 'O', 'O', 'O', 'O', 'O', 'O', 'O', 'O', 'O', 'O', 'O', 'O', 'O', 'O', 'O', 'O', 'O', 'O', 'O', 'O', 'O', 'O', 'O', 'O', 'O', 'O', 'O', 'O', 'O', 'O', 'O', 'O', 'O', 'O', 'O', 'O', 'O', 'O', 'O', 'O', 'O', 'O', 'O', 'O', 'O', 'O', 'O', 'O', 'O', 'O', 'O', 'O', 'O', 'O', 'O', 'O', 'O', 'O', 'O', 'O', 'O', 'O', 'O', 'O', 'O', 'O', 'O', 'O', 'O', 'O', 'O', 'O', 'O', 'O', 'O', 'O', 'O', 'O', 'O', 'O', 'O', 'O', 'O', 'O', 'O', 'O', 'O', 'O', 'O', 'O', 'O', 'O', 'O', 'O', 'O', 'O', 'O', 'O', 'O', 'O', 'O', 'O', 'O', 'O', 'O', 'O', 'O', 'O', 'O', 'O', 'O', 'O', 'O', 'O', 'O', 'O', 'O', 'O', 'O', 'O', 'O', 'O', 'O', 'O', 'O', 'O', 'O', 'O', 'O', 'O', 'O', 'O', 'O', 'O', 'O', 'O', 'O', 'O', 'O', 'O', 'O', 'O', 'O', 'O', 'O', 'O', 'O', 'O', 'O', 'O', 'O', 'O', 'O', 'O', 'O', 'O', 'O', 'O', 'O', 'O', 'O', 'O', 'O', 'O', 'O', 'O', 'O', 'O', 'O', 'O', 'O', 'O', 'O', 'O', 'O', 'O', 'O', 'O', 'O', 'O', 'O', 'O', 'O', 'O', 'O', 'O', 'O', 'O', 'O', 'O', 'O', 'O', 'O', 'O', 'O', 'O', 'O', 'O', 'O', 'O', 'O', 'O', 'O', 'O', 'O', 'O', 'O', 'O', 'O', 'O', 'O', 'O', 'O', 'O', 'O', 'O', 'O', 'O', 'O', 'O', 'O', 'O', 'O', 'O', 'O', 'O', 'O', 'O', 'O', 'O', 'O', 'O', 'O', 'O', 'O', 'O', 'O', 'O', 'O', 'O', 'O', 'O', 'O', 'O', 'O', 'O', 'O', 'O', 'O', 'O', 'O', 'O', 'O', 'O', 'O', 'O', 'O', 'O', 'O', 'O', 'O', 'O', 'O', 'O', 'O', 'O', 'O', 'O', 'O', 'O', 'O', 'O', 'O', 'O', 'O', 'O', 'O', 'O', 'O', 'O', 'O', 'O', 'O', 'O', 'O', 'O', 'O', 'O', 'O', 'O', 'O', 'O', 'O', 'O', 'O', 'O', 'O', 'O', 'O', 'O', 'O', 'O', 'O', 'O', 'O', 'O', 'O', 'O', 'O', 'O', 'O', 'O', 'O', 'O', 'O', 'O', 'O', 'O', 'O', 'O', 'O', 'O', 'O', 'O', 'O', 'O', 'O', 'O', 'O', 'O', 'O', 'O', 'O', 'O', 'O', 'O', 'O', 'O', 'O', 'O', 'O', 'O', 'O', 'O', 'O', 'O', 'O', 'O', 'O', 'O', 'O', 'O', 'O', 'O', 'O', 'O', 'O', 'O', 'O', 'O', 'O', 'O', 'O', 'O', 'O', 'O', 'O', 'O', 'O', 'O', 'O', 'O', 'O', 'O', 'O', 'O', 'O', 'O', 'O', 'O', 'O', 'O', 'O', 'O', 'O', 'O', 'O', 'O', 'O', 'O', 'O', 'O', 'O', 'O', 'O', 'O', 'O', 'O', 'O', 'O', 'O', 'O', 'O', 'O', 'O', 'O', 'O', 'O', 'O', 'O', 'O', 'O', 'O', 'O', 'O', 'O', 'O', 'O', 'O', 'O', 'O', 'O', 'O', 'O', 'O', 'O', 'O', 'O', 'O', 'O', 'O', 'O', 'O', 'O', 'O', 'O', 'O', 'O', 'O', 'O', 'O', 'O', 'O', 'O', 'O', 'O', 'O', 'O', 'O', 'O', 'O', 'O', 'O', 'O', 'O', 'O', 'O', 'O', 'O', 'O', 'O', 'O', 'O', 'O', 'O', 'O', 'O', 'O', 'O', 'O', 'O', 'O', 'O', 'O', 'O', 'O', 'O', 'O', 'O', 'O', 'O', 'O', 'O', 'O', 'O', 'O', 'O', 'O', 'O', 'O', 'O', 'O', 'O', 'O', 'O', 'O', 'O', 'O', 'O', 'O', 'O', 'O', 'O', 'O', 'O', 'O', 'O', 'O', 'O', 'O', 'O', 'O', 'O', 'O', 'O', 'O', 'O', 'O', 'O', 'O', 'O', 'O', 'O', 'O', 'O', 'O', 'O', 'O', 'O']\n",
            "--------------------------------------------------\n",
            "Sentence 2:\n",
            "  Predicted: ['ORGANE', 'ORGANE', 'ORGANE', 'ORGANE', 'O', 'ORGANE', 'O', 'O', 'O', 'O', 'O', 'MESURE', 'MESURE', 'MESURE', 'O', 'O', 'O', 'O', 'O', 'O', 'O', 'O', 'O', 'ORGANE', 'ORGANE', 'O', 'O', 'O', 'O', 'O', 'O', 'O', 'ORGANE', 'ORGANE', 'O', 'DESCRIPTEUR', 'DESCRIPTEUR', 'O', 'ORGANE', 'O', 'O', 'FORME', 'FORME', 'FORME', 'FORME', 'ORGANE', 'O', 'O', 'FORME', 'O', 'ORGANE', 'O', 'O', 'O', 'O', 'O', 'O', 'O', 'O', 'SURFACE', 'O', 'O', 'O', 'O', 'O', 'O', 'O', 'O', 'ORGANE', 'DESCRIPTEUR', 'DESCRIPTEUR', 'O', 'O', 'O', 'O', 'O', 'O', 'ORGANE', 'ORGANE', 'O', 'O', 'O', 'O', 'O', 'ORGANE', 'O', 'O', 'ORGANE', 'ORGANE', 'O', 'O', 'ORGANE', 'ORGANE', 'O', 'ORGANE', 'ORGANE', 'ORGANE', 'ORGANE', 'O', 'O', 'O', 'O', 'O', 'O', 'ORGANE', 'ORGANE', 'FORME', 'DEVELOPPEMENT', 'FORME', 'FORME', 'ORGANE', 'O', 'ORGANE', 'ORGANE', 'O', 'O', 'O', 'O', 'O', 'O', 'O', 'SURFACE', 'O', 'O', 'ORGANE', 'ORGANE', 'ORGANE', 'ORGANE', 'ORGANE', 'ORGANE', 'ORGANE', 'ORGANE', 'ORGANE', 'O', 'O', 'O', 'O', 'O', 'ORGANE', 'O', 'ORGANE', 'O', 'O', 'O', 'MESURE', 'DEVELOPPEMENT', 'O', 'ORGANE', 'ORGANE', 'ORGANE', 'ORGANE', 'ORGANE', 'ORGANE', 'ORGANE', 'ORGANE', 'ORGANE', 'ORGANE', 'O', 'O', 'O', 'O', 'O', 'SURFACE', 'O', 'O', 'O', 'O', 'ORGANE', 'ORGANE', 'ORGANE', 'ORGANE', 'ORGANE', 'ORGANE', 'O', 'O', 'O', 'O', 'ORGANE', 'ORGANE', 'O', 'ORGANE', 'O', 'O', 'O', 'O', 'O', 'O', 'O', 'MESURE', 'MESURE', 'MESURE', 'O', 'O', 'O', 'O', 'SURFACE', 'O', 'SURFACE', 'ORGANE', 'O', 'O', 'O', 'O', 'ORGANE', 'ORGANE', 'ORGANE', 'ORGANE', 'O', 'O', 'O', 'O', 'O', 'O', 'O', 'O', 'O', 'O', 'O', 'O', 'O', 'O', 'O', 'O', 'O', 'O', 'O', 'O', 'O', 'O', 'O', 'O', 'O', 'O', 'O', 'O', 'O', 'O', 'O', 'O', 'O', 'O', 'O', 'O', 'O', 'O', 'O', 'O', 'O', 'O', 'O', 'O', 'O', 'O', 'O', 'O', 'O', 'O', 'O', 'O', 'O', 'O', 'O', 'O', 'O', 'O', 'O', 'O', 'O', 'O', 'O', 'O', 'O', 'O', 'O', 'O', 'O', 'O', 'O', 'O', 'O', 'O', 'O', 'O', 'O', 'O', 'O', 'O', 'O', 'O', 'O', 'O', 'O', 'O', 'O', 'O', 'O', 'O', 'O', 'O', 'O', 'O', 'O', 'O', 'O', 'O', 'O', 'O', 'O', 'O', 'O', 'O', 'O', 'O', 'O', 'O', 'O', 'O', 'O', 'O', 'O', 'O', 'O', 'O', 'O', 'O', 'O', 'O', 'O', 'O', 'O', 'O', 'O', 'O', 'O', 'O', 'O', 'O', 'O', 'O', 'O', 'O', 'O', 'O', 'O', 'O', 'O', 'O', 'O', 'O', 'O', 'O', 'O', 'O', 'O', 'O', 'O', 'O', 'O', 'O', 'O', 'O', 'O', 'O', 'O', 'O', 'O', 'O', 'O', 'O', 'O', 'O', 'O', 'O', 'O', 'O', 'O', 'O', 'O', 'O', 'O', 'O', 'O', 'O', 'O', 'O', 'O', 'O', 'O', 'O', 'O', 'O', 'O', 'O', 'O', 'O', 'O', 'O', 'O', 'O', 'O', 'O', 'O', 'O', 'O', 'O', 'O', 'O', 'O', 'O', 'O', 'O', 'O', 'O', 'O', 'O', 'O', 'O', 'O', 'O', 'O', 'O', 'O', 'O', 'O', 'O', 'O', 'O', 'O', 'O', 'O', 'O', 'O', 'O', 'O', 'O', 'O', 'O', 'O', 'O', 'O', 'O', 'O', 'O', 'O', 'O', 'O', 'O', 'O', 'O', 'O', 'O', 'O', 'O', 'O', 'O', 'O', 'O', 'O', 'O', 'O', 'O', 'O', 'O', 'O', 'O', 'O', 'O', 'O', 'O', 'O', 'O', 'O', 'O', 'O', 'O', 'O', 'O', 'O', 'O', 'O', 'O', 'O', 'O', 'O', 'O', 'O', 'O', 'O', 'O', 'O', 'O', 'O', 'O', 'O', 'O', 'O', 'O', 'O', 'O', 'O', 'O', 'O', 'O', 'O', 'O', 'O', 'O', 'O', 'O', 'O', 'O', 'O', 'O', 'O', 'O', 'O', 'O', 'O', 'O', 'O', 'O', 'O', 'O', 'O', 'O', 'O', 'O', 'O', 'O', 'O', 'O', 'O', 'O', 'O', 'O', 'O', 'O', 'O', 'O', 'O', 'O', 'O', 'O', 'O', 'O', 'O', 'O', 'O', 'O', 'O', 'O', 'O', 'O', 'O', 'O', 'O', 'O', 'O', 'O', 'O', 'O', 'O', 'O', 'O', 'O', 'O', 'O', 'O', 'O', 'O', 'O', 'O', 'O', 'O', 'O', 'O', 'O', 'O', 'O', 'O', 'O', 'O', 'O', 'O', 'O', 'O', 'O', 'O', 'O', 'O', 'O', 'O', 'O', 'O', 'O', 'O', 'O', 'O', 'O', 'O', 'O', 'O', 'O', 'O', 'O', 'O', 'O', 'O', 'O', 'O', 'O', 'O', 'O', 'O', 'O', 'O', 'O', 'O', 'O', 'O', 'O', 'O', 'O', 'O', 'O', 'O', 'O', 'O', 'O', 'O', 'O', 'O', 'O', 'O', 'O', 'O', 'O', 'O', 'O', 'O', 'O', 'O', 'O', 'O', 'O', 'O', 'O', 'O', 'O', 'O', 'O', 'O', 'O', 'O', 'O', 'O', 'O', 'O', 'O', 'O', 'O', 'O', 'O', 'O', 'O', 'O', 'O', 'O', 'O', 'O', 'O', 'O', 'O', 'O', 'O', 'O', 'O', 'O', 'O', 'O', 'O', 'O', 'O', 'O', 'O', 'O', 'O', 'O', 'O', 'O', 'O', 'O', 'O', 'O', 'O', 'O', 'O', 'O', 'O', 'O', 'O', 'O', 'O', 'O', 'O', 'O', 'O', 'O', 'O', 'O', 'O', 'O', 'O', 'O', 'O', 'O', 'O', 'O', 'O', 'O', 'O', 'O', 'O', 'O', 'O', 'O', 'O', 'O', 'O', 'O', 'O', 'O', 'O', 'O', 'O', 'O', 'O', 'O', 'O', 'O', 'O', 'O', 'O', 'O', 'O', 'O', 'O', 'O', 'O', 'O', 'O', 'O', 'O', 'O', 'O', 'O', 'O', 'O', 'O', 'O', 'O', 'O', 'O', 'O', 'O', 'O', 'O', 'O', 'O', 'O', 'O', 'O', 'O', 'O', 'O', 'O', 'O', 'O', 'O', 'O', 'O', 'O', 'O', 'O', 'O', 'O', 'O', 'O', 'O', 'O', 'O', 'O', 'O', 'O', 'O', 'O', 'O', 'O', 'O', 'O', 'O', 'O', 'O', 'O', 'O', 'O', 'O', 'O', 'O', 'O', 'O', 'O', 'O', 'O', 'O', 'O', 'O', 'O', 'O', 'O', 'O', 'O', 'O', 'O', 'O', 'O', 'O', 'O', 'O', 'O', 'O', 'O', 'O', 'O', 'O', 'O', 'O', 'O', 'O', 'O', 'O', 'O', 'O', 'O', 'O', 'O', 'O', 'O', 'O', 'O', 'O', 'O', 'O', 'O', 'O', 'O', 'O', 'O', 'O', 'O', 'O', 'O', 'O', 'O', 'O', 'O', 'O', 'O', 'O', 'O', 'O', 'O', 'O', 'O', 'O', 'O', 'O', 'O', 'O', 'O', 'O', 'O', 'O', 'O', 'O', 'O', 'O', 'O', 'O', 'O', 'O', 'O', 'O', 'O', 'O', 'O', 'O', 'O', 'O', 'O', 'O', 'O', 'O', 'O', 'O', 'O', 'O', 'O', 'O', 'O', 'O', 'O', 'O', 'O', 'O', 'O', 'O']\n",
            "  Actual:    ['ORGANE', 'O', 'ORGANE', 'O', 'O', 'O', 'O', 'O', 'O', 'MESURE', 'MESURE', 'MESURE', 'MESURE', 'O', 'O', 'O', 'O', 'O', 'O', 'O', 'O', 'O', 'O', 'ORGANE', 'O', 'O', 'O', 'O', 'O', 'O', 'O', 'O', 'ORGANE', 'O', 'O', 'DESCRIPTEUR', 'O', 'O', 'ORGANE', 'O', 'O', 'FORME', 'O', 'FORME', 'O', 'ORGANE', 'O', 'O', 'STRUCTURE', 'O', 'ORGANE', 'O', 'O', 'O', 'O', 'O', 'O', 'O', 'O', 'SURFACE', 'O', 'O', 'O', 'O', 'O', 'O', 'O', 'DESCRIPTEUR', 'ORGANE', 'DESCRIPTEUR', 'DESCRIPTEUR', 'O', 'O', 'O', 'O', 'O', 'O', 'ORGANE', 'POSITION', 'O', 'O', 'O', 'O', 'O', 'O', 'O', 'O', 'ORGANE', 'O', 'O', 'O', 'ORGANE', 'ORGANE', 'O', 'ORGANE', 'ORGANE', 'ORGANE', 'ORGANE', 'O', 'O', 'O', 'O', 'O', 'O', 'ORGANE', 'DISPOSITION', 'DISPOSITION', 'STRUCTURE', 'STRUCTURE', 'O', 'ORGANE', 'ORGANE', 'ORGANE', 'ORGANE', 'O', 'O', 'O', 'O', 'O', 'O', 'O', 'SURFACE', 'O', 'O', 'ORGANE', 'ORGANE', 'ORGANE', 'ORGANE', 'ORGANE', 'O', 'ORGANE', 'ORGANE', 'O', 'O', 'O', 'O', 'O', 'O', 'ORGANE', 'ORGANE', 'O', 'O', 'O', 'O', 'STRUCTURE', 'STRUCTURE', 'STRUCTURE', 'ORGANE', 'ORGANE', 'ORGANE', 'ORGANE', 'ORGANE', 'ORGANE', 'ORGANE', 'ORGANE', 'ORGANE', 'O', 'O', 'O', 'O', 'SURFACE', 'SURFACE', 'SURFACE', 'O', 'O', 'O', 'O', 'ORGANE', 'ORGANE', 'ORGANE', 'ORGANE', 'ORGANE', 'ORGANE', 'O', 'O', 'SURFACE', 'SURFACE', 'SURFACE', 'ORGANE', 'SURFACE', 'SURFACE', 'O', 'O', 'O', 'O', 'O', 'O', 'O', 'O', 'O', 'ORGANE', 'ORGANE', 'O', 'O', 'O', 'O', 'O', 'O', 'ORGANE', 'O', 'O', 'O', 'O', 'ORGANE', 'ORGANE', 'O', 'O', 'O', 'O', 'O', 'O', 'O', 'O', 'O', 'O', 'O', 'O', 'O', 'O', 'O', 'O', 'O', 'O', 'O', 'O', 'O', 'O', 'O', 'O', 'O', 'O', 'O', 'O', 'O', 'O', 'O', 'O', 'O', 'O', 'O', 'O', 'O', 'O', 'O', 'O', 'O', 'O', 'O', 'O', 'O', 'O', 'O', 'O', 'O', 'O', 'O', 'O', 'O', 'O', 'O', 'O', 'O', 'O', 'O', 'O', 'O', 'O', 'O', 'O', 'O', 'O', 'O', 'O', 'O', 'O', 'O', 'O', 'O', 'O', 'O', 'O', 'O', 'O', 'O', 'O', 'O', 'O', 'O', 'O', 'O', 'O', 'O', 'O', 'O', 'O', 'O', 'O', 'O', 'O', 'O', 'O', 'O', 'O', 'O', 'O', 'O', 'O', 'O', 'O', 'O', 'O', 'O', 'O', 'O', 'O', 'O', 'O', 'O', 'O', 'O', 'O', 'O', 'O', 'O', 'O', 'O', 'O', 'O', 'O', 'O', 'O', 'O', 'O', 'O', 'O', 'O', 'O', 'O', 'O', 'O', 'O', 'O', 'O', 'O', 'O', 'O', 'O', 'O', 'O', 'O', 'O', 'O', 'O', 'O', 'O', 'O', 'O', 'O', 'O', 'O', 'O', 'O', 'O', 'O', 'O', 'O', 'O', 'O', 'O', 'O', 'O', 'O', 'O', 'O', 'O', 'O', 'O', 'O', 'O', 'O', 'O', 'O', 'O', 'O', 'O', 'O', 'O', 'O', 'O', 'O', 'O', 'O', 'O', 'O', 'O', 'O', 'O', 'O', 'O', 'O', 'O', 'O', 'O', 'O', 'O', 'O', 'O', 'O', 'O', 'O', 'O', 'O', 'O', 'O', 'O', 'O', 'O', 'O', 'O', 'O', 'O', 'O', 'O', 'O', 'O', 'O', 'O', 'O', 'O', 'O', 'O', 'O', 'O', 'O', 'O', 'O', 'O', 'O', 'O', 'O', 'O', 'O', 'O', 'O', 'O', 'O', 'O', 'O', 'O', 'O', 'O', 'O', 'O', 'O', 'O', 'O', 'O', 'O', 'O', 'O', 'O', 'O', 'O', 'O', 'O', 'O', 'O', 'O', 'O', 'O', 'O', 'O', 'O', 'O', 'O', 'O', 'O', 'O', 'O', 'O', 'O', 'O', 'O', 'O', 'O', 'O', 'O', 'O', 'O', 'O', 'O', 'O', 'O', 'O', 'O', 'O', 'O', 'O', 'O', 'O', 'O', 'O', 'O', 'O', 'O', 'O', 'O', 'O', 'O', 'O', 'O', 'O', 'O', 'O', 'O', 'O', 'O', 'O', 'O', 'O', 'O', 'O', 'O', 'O', 'O', 'O', 'O', 'O', 'O', 'O', 'O', 'O', 'O', 'O', 'O', 'O', 'O', 'O', 'O', 'O', 'O', 'O', 'O', 'O', 'O', 'O', 'O', 'O', 'O', 'O', 'O', 'O', 'O', 'O', 'O', 'O', 'O', 'O', 'O', 'O', 'O', 'O', 'O', 'O', 'O', 'O', 'O', 'O', 'O', 'O', 'O', 'O', 'O', 'O', 'O', 'O', 'O', 'O', 'O', 'O', 'O', 'O', 'O', 'O', 'O', 'O', 'O', 'O', 'O', 'O', 'O', 'O', 'O', 'O', 'O', 'O', 'O', 'O', 'O', 'O', 'O', 'O', 'O', 'O', 'O', 'O', 'O', 'O', 'O', 'O', 'O', 'O', 'O', 'O', 'O', 'O', 'O', 'O', 'O', 'O', 'O', 'O', 'O', 'O', 'O', 'O', 'O', 'O', 'O', 'O', 'O', 'O', 'O', 'O', 'O', 'O', 'O', 'O', 'O', 'O', 'O', 'O', 'O', 'O', 'O', 'O', 'O', 'O', 'O', 'O', 'O', 'O', 'O', 'O', 'O', 'O', 'O', 'O', 'O', 'O', 'O', 'O', 'O', 'O', 'O', 'O', 'O', 'O', 'O', 'O', 'O', 'O', 'O', 'O', 'O', 'O', 'O', 'O', 'O', 'O', 'O', 'O', 'O', 'O', 'O', 'O', 'O', 'O', 'O', 'O', 'O', 'O', 'O', 'O', 'O', 'O', 'O', 'O', 'O', 'O', 'O', 'O', 'O', 'O', 'O', 'O', 'O', 'O', 'O', 'O', 'O', 'O', 'O', 'O', 'O', 'O', 'O', 'O', 'O', 'O', 'O', 'O', 'O', 'O', 'O', 'O', 'O', 'O', 'O', 'O', 'O', 'O', 'O', 'O', 'O', 'O', 'O', 'O', 'O', 'O', 'O', 'O', 'O', 'O', 'O', 'O', 'O', 'O', 'O', 'O', 'O', 'O', 'O', 'O', 'O', 'O', 'O', 'O', 'O', 'O', 'O', 'O', 'O', 'O', 'O', 'O', 'O', 'O', 'O', 'O', 'O', 'O', 'O', 'O', 'O', 'O', 'O', 'O', 'O', 'O', 'O', 'O', 'O', 'O', 'O', 'O', 'O', 'O', 'O', 'O', 'O', 'O', 'O', 'O', 'O', 'O', 'O', 'O', 'O', 'O', 'O', 'O', 'O', 'O', 'O', 'O', 'O', 'O', 'O', 'O', 'O', 'O', 'O', 'O', 'O', 'O', 'O', 'O', 'O', 'O', 'O', 'O', 'O', 'O', 'O', 'O', 'O', 'O', 'O', 'O', 'O', 'O', 'O', 'O', 'O', 'O', 'O', 'O', 'O', 'O', 'O', 'O', 'O', 'O', 'O', 'O', 'O', 'O', 'O', 'O', 'O', 'O', 'O', 'O', 'O', 'O', 'O', 'O', 'O', 'O', 'O', 'O', 'O', 'O', 'O', 'O', 'O', 'O', 'O', 'O', 'O', 'O', 'O', 'O', 'O', 'O', 'O', 'O', 'O', 'O', 'O', 'O', 'O', 'O', 'O', 'O', 'O', 'O', 'O', 'O', 'O', 'O', 'O', 'O', 'O', 'O', 'O', 'O', 'O', 'O', 'O', 'O', 'O', 'O', 'O', 'O', 'O', 'O', 'O', 'O', 'O', 'O', 'O', 'O', 'O', 'O', 'O']\n",
            "--------------------------------------------------\n",
            "Classification Report:\n",
            "               precision    recall  f1-score   support\n",
            "\n",
            "            O       0.97      0.98      0.97    140090\n",
            "      COULEUR       0.42      0.08      0.14       318\n",
            "     POSITION       0.63      0.31      0.42       277\n",
            "DEVELOPPEMENT       0.03      0.18      0.05        11\n",
            "      SURFACE       0.48      0.40      0.44       751\n",
            "        FORME       0.49      0.46      0.48      1224\n",
            "       ORGANE       0.67      0.70      0.69      7393\n",
            "  DESCRIPTEUR       0.54      0.35      0.43      2775\n",
            "    STRUCTURE       0.67      0.01      0.02       262\n",
            "  DISPOSITION       0.47      0.15      0.23       254\n",
            "       MESURE       0.62      0.64      0.63       701\n",
            "\n",
            "     accuracy                           0.94    154056\n",
            "    macro avg       0.55      0.39      0.41    154056\n",
            " weighted avg       0.94      0.94      0.94    154056\n",
            "\n",
            "\n",
            "Stacked LSTM Evaluation with Predictions\n"
          ]
        }
      ],
      "execution_count": 26
    },
    {
      "cell_type": "code",
      "source": [],
      "metadata": {
        "trusted": true,
        "id": "-VNoOEvqS19F"
      },
      "outputs": [],
      "execution_count": null
    }
  ]
}